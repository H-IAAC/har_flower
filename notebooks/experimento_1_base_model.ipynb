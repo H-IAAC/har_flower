{
 "cells": [
  {
   "cell_type": "code",
   "execution_count": 1,
   "id": "48669192",
   "metadata": {},
   "outputs": [],
   "source": [
    "#import sys\n",
    "import numpy as np\n",
    "import pandas as pd\n",
    "%matplotlib inline\n",
    "#import matplotlib.pyplot as plt\n",
    "#import seaborn as sns\n",
    "#import sklearn\n",
    "import tensorflow as tf\n",
    "import es_utils as utils"
   ]
  },
  {
   "cell_type": "code",
   "execution_count": null,
   "id": "166fdb89",
   "metadata": {},
   "outputs": [],
   "source": [
    "# definir as labels finais\n",
    "labels = []"
   ]
  },
  {
   "cell_type": "markdown",
   "id": "56f5ab20",
   "metadata": {},
   "source": [
    "Lying down \n",
    "Sitting \n",
    "Walking \n",
    "Running \n",
    "Bicycling\n",
    "Sleeping\n",
    "Lab work\n",
    "In class\n",
    "In a meeting \n",
    "At main workplace\n",
    "Indoors \n",
    "Outside\n",
    "In a car \n",
    "On a bus \n",
    "Drive (I'm the driver) \n",
    "Drive (I'm a passenger) \n",
    "At home \n",
    "At a restaurant\n",
    "Phone in pocket \n",
    "Exercise \n",
    "Cooking\n",
    "Shopping\n",
    "Strolling \n",
    "Drinking (alcohol) \n",
    "Bathing - shower \n",
    "Cleaning\n",
    "Laundry \n",
    "Washing dishes \n",
    "Watching TV\n",
    "Surfing the internet \n",
    "At a party \n",
    "At a bar \n",
    "At the beach \n",
    "Singing\n",
    "Talking \n",
    "Computer work \n",
    "Eating\n",
    "Toilet \n",
    "Grooming \n",
    "Dressing \n",
    "At the gym\n",
    "Stairs - going up\n",
    "Stairs - going down\n",
    "Elevator \n",
    "Standing \n",
    "At school\n",
    "Phone in hand\n",
    "Phone in bag\n",
    "Phone on table \n",
    "With co-workers \n",
    "With friends"
   ]
  },
  {
   "cell_type": "code",
   "execution_count": null,
   "id": "90ee7359",
   "metadata": {},
   "outputs": [],
   "source": [
    "# montar os 20 folds da seguinte maneira:\n",
    "# percorra toda a pasta onde tem os datasets dos usuarios e pegue os `ids`\n",
    "# selecione 40 aleatoriamente, 20x\n",
    "# carregue apenas esses 40 datasets (delete-os da memoria ao final) e treine um modelo unificado"
   ]
  },
  {
   "cell_type": "code",
   "execution_count": null,
   "id": "ccd7f7a6",
   "metadata": {},
   "outputs": [],
   "source": [
    "# faca uma otimizacao de parametros por algum tipo de grid ou random search (ou evolutivo, se der tempo)"
   ]
  },
  {
   "cell_type": "code",
   "execution_count": null,
   "id": "e99d4afb",
   "metadata": {},
   "outputs": [],
   "source": [
    "config = {'df_path': '../input/user1.features_labels.csv'}\n",
    "har = utils.HAR(config)\n",
    "har.dummy_test()"
   ]
  },
  {
   "cell_type": "code",
   "execution_count": null,
   "id": "7afcefc1",
   "metadata": {},
   "outputs": [],
   "source": []
  }
 ],
 "metadata": {
  "kernelspec": {
   "display_name": "Python 3 (ipykernel)",
   "language": "python",
   "name": "python3"
  },
  "language_info": {
   "codemirror_mode": {
    "name": "ipython",
    "version": 3
   },
   "file_extension": ".py",
   "mimetype": "text/x-python",
   "name": "python",
   "nbconvert_exporter": "python",
   "pygments_lexer": "ipython3",
   "version": "3.8.10"
  }
 },
 "nbformat": 4,
 "nbformat_minor": 5
}
