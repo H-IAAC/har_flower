{
 "cells": [
  {
   "cell_type": "code",
   "execution_count": 1,
   "id": "eb297043",
   "metadata": {},
   "outputs": [],
   "source": [
    "#import sys\n",
    "import numpy as np\n",
    "import pandas as pd\n",
    "%matplotlib inline\n",
    "#import matplotlib.pyplot as plt\n",
    "#import seaborn as sns\n",
    "#import sklearn\n",
    "import tensorflow as tf\n",
    "import es_utils as utils"
   ]
  },
  {
   "cell_type": "code",
   "execution_count": 2,
   "id": "2f41ed66",
   "metadata": {},
   "outputs": [
    {
     "data": {
      "text/plain": [
       "51"
      ]
     },
     "execution_count": 2,
     "metadata": {},
     "output_type": "execute_result"
    }
   ],
   "source": [
    "labels = ['label:LYING_DOWN',\n",
    " 'label:SITTING',\n",
    " 'label:FIX_walking',\n",
    " 'label:FIX_running',\n",
    " 'label:BICYCLING',\n",
    " 'label:SLEEPING',\n",
    " 'label:LAB_WORK',\n",
    " 'label:IN_CLASS',\n",
    " 'label:IN_A_MEETING',\n",
    " 'label:LOC_main_workplace',\n",
    " 'label:OR_indoors',\n",
    " 'label:OR_outside',\n",
    " 'label:IN_A_CAR',\n",
    " 'label:ON_A_BUS',\n",
    " 'label:DRIVE_-_I_M_THE_DRIVER',\n",
    " 'label:DRIVE_-_I_M_A_PASSENGER',\n",
    " 'label:LOC_home',\n",
    " 'label:FIX_restaurant',\n",
    " 'label:PHONE_IN_POCKET',\n",
    " 'label:OR_exercise',\n",
    " 'label:COOKING',\n",
    " 'label:SHOPPING',\n",
    " 'label:STROLLING',\n",
    " 'label:DRINKING__ALCOHOL_',\n",
    " 'label:BATHING_-_SHOWER',\n",
    " 'label:CLEANING',\n",
    " 'label:DOING_LAUNDRY',\n",
    " 'label:WASHING_DISHES',\n",
    " 'label:WATCHING_TV',\n",
    " 'label:SURFING_THE_INTERNET',\n",
    " 'label:AT_A_PARTY',\n",
    " 'label:AT_A_BAR',\n",
    " 'label:LOC_beach',\n",
    " 'label:SINGING',\n",
    " 'label:TALKING',\n",
    " 'label:COMPUTER_WORK',\n",
    " 'label:EATING',\n",
    " 'label:TOILET',\n",
    " 'label:GROOMING',\n",
    " 'label:DRESSING',\n",
    " 'label:AT_THE_GYM',\n",
    " 'label:STAIRS_-_GOING_UP',\n",
    " 'label:STAIRS_-_GOING_DOWN',\n",
    " 'label:ELEVATOR',\n",
    " 'label:OR_standing',\n",
    " 'label:AT_SCHOOL',\n",
    " 'label:PHONE_IN_HAND',\n",
    " 'label:PHONE_IN_BAG',\n",
    " 'label:PHONE_ON_TABLE',\n",
    " 'label:WITH_CO-WORKERS',\n",
    " 'label:WITH_FRIENDS']\n",
    "\n",
    "len(labels)"
   ]
  },
  {
   "cell_type": "code",
   "execution_count": 3,
   "id": "aaf5a5ee",
   "metadata": {},
   "outputs": [],
   "source": [
    "#k_folds = utils.create_k_folds_n_users(5, 40, '/home/wander/OtherProjects/har_flower/full_data')"
   ]
  },
  {
   "cell_type": "code",
   "execution_count": 4,
   "id": "13a2e346",
   "metadata": {
    "scrolled": true
   },
   "outputs": [
    {
     "name": "stderr",
     "output_type": "stream",
     "text": [
      "2022-03-21 18:20:12.216446: I tensorflow/stream_executor/cuda/cuda_gpu_executor.cc:939] successful NUMA node read from SysFS had negative value (-1), but there must be at least one NUMA node, so returning NUMA node zero\n",
      "2022-03-21 18:20:12.248787: W tensorflow/stream_executor/platform/default/dso_loader.cc:64] Could not load dynamic library 'libcudnn.so.8'; dlerror: libcudnn.so.8: cannot open shared object file: No such file or directory\n",
      "2022-03-21 18:20:12.248802: W tensorflow/core/common_runtime/gpu/gpu_device.cc:1850] Cannot dlopen some GPU libraries. Please make sure the missing libraries mentioned above are installed properly if you would like to use GPU. Follow the guide at https://www.tensorflow.org/install/gpu for how to download and setup the required libraries for your platform.\n",
      "Skipping registering GPU devices...\n",
      "2022-03-21 18:20:12.249459: I tensorflow/core/platform/cpu_feature_guard.cc:151] This TensorFlow binary is optimized with oneAPI Deep Neural Network Library (oneDNN) to use the following CPU instructions in performance-critical operations:  AVX2 FMA\n",
      "To enable them in other operations, rebuild TensorFlow with the appropriate compiler flags.\n"
     ]
    },
    {
     "name": "stdout",
     "output_type": "stream",
     "text": [
      "Epoch 1/40\n",
      "162/162 [==============================] - 1s 2ms/step - loss: 0.7598 - categorical_accuracy: 0.5407 - val_loss: 0.7405 - val_categorical_accuracy: 0.5509\n",
      "Epoch 2/40\n",
      "162/162 [==============================] - 0s 930us/step - loss: 0.7296 - categorical_accuracy: 0.5829 - val_loss: 0.7313 - val_categorical_accuracy: 0.5509\n",
      "Epoch 3/40\n",
      "162/162 [==============================] - 0s 904us/step - loss: 0.7214 - categorical_accuracy: 0.5829 - val_loss: 0.7276 - val_categorical_accuracy: 0.5509\n",
      "Epoch 4/40\n",
      "162/162 [==============================] - 0s 845us/step - loss: 0.7172 - categorical_accuracy: 0.5829 - val_loss: 0.7255 - val_categorical_accuracy: 0.5509\n",
      "Epoch 5/40\n",
      "162/162 [==============================] - 0s 826us/step - loss: 0.7145 - categorical_accuracy: 0.5829 - val_loss: 0.7239 - val_categorical_accuracy: 0.5509\n",
      "Epoch 6/40\n",
      "162/162 [==============================] - 0s 864us/step - loss: 0.7126 - categorical_accuracy: 0.5909 - val_loss: 0.7227 - val_categorical_accuracy: 0.5533\n",
      "Epoch 7/40\n",
      "162/162 [==============================] - 0s 846us/step - loss: 0.7109 - categorical_accuracy: 0.6133 - val_loss: 0.7215 - val_categorical_accuracy: 0.5533\n",
      "Epoch 8/40\n",
      "162/162 [==============================] - 0s 784us/step - loss: 0.7096 - categorical_accuracy: 0.6431 - val_loss: 0.7207 - val_categorical_accuracy: 0.5533\n",
      "Epoch 9/40\n",
      "162/162 [==============================] - 0s 780us/step - loss: 0.7084 - categorical_accuracy: 0.6536 - val_loss: 0.7196 - val_categorical_accuracy: 0.5533\n",
      "Epoch 10/40\n",
      "162/162 [==============================] - 0s 800us/step - loss: 0.7072 - categorical_accuracy: 0.6723 - val_loss: 0.7187 - val_categorical_accuracy: 0.5558\n",
      "Epoch 11/40\n",
      "162/162 [==============================] - 0s 782us/step - loss: 0.7062 - categorical_accuracy: 0.6927 - val_loss: 0.7180 - val_categorical_accuracy: 0.5782\n",
      "Epoch 12/40\n",
      "162/162 [==============================] - 0s 782us/step - loss: 0.7052 - categorical_accuracy: 0.7083 - val_loss: 0.7170 - val_categorical_accuracy: 0.6179\n",
      "Epoch 13/40\n",
      "162/162 [==============================] - 0s 864us/step - loss: 0.7042 - categorical_accuracy: 0.7263 - val_loss: 0.7163 - val_categorical_accuracy: 0.6278\n",
      "Epoch 14/40\n",
      "162/162 [==============================] - 0s 888us/step - loss: 0.7034 - categorical_accuracy: 0.7381 - val_loss: 0.7156 - val_categorical_accuracy: 0.6427\n",
      "Epoch 15/40\n",
      "162/162 [==============================] - 0s 835us/step - loss: 0.7024 - categorical_accuracy: 0.7498 - val_loss: 0.7149 - val_categorical_accuracy: 0.6600\n",
      "Epoch 16/40\n",
      "162/162 [==============================] - 0s 784us/step - loss: 0.7016 - categorical_accuracy: 0.7579 - val_loss: 0.7142 - val_categorical_accuracy: 0.6799\n",
      "Epoch 17/40\n",
      "162/162 [==============================] - 0s 773us/step - loss: 0.7008 - categorical_accuracy: 0.7691 - val_loss: 0.7135 - val_categorical_accuracy: 0.6873\n",
      "Epoch 18/40\n",
      "162/162 [==============================] - 0s 773us/step - loss: 0.7000 - categorical_accuracy: 0.7741 - val_loss: 0.7129 - val_categorical_accuracy: 0.6973\n",
      "Epoch 19/40\n",
      "162/162 [==============================] - 0s 762us/step - loss: 0.6993 - categorical_accuracy: 0.7772 - val_loss: 0.7124 - val_categorical_accuracy: 0.6973\n",
      "Epoch 20/40\n",
      "162/162 [==============================] - 0s 773us/step - loss: 0.6985 - categorical_accuracy: 0.7778 - val_loss: 0.7117 - val_categorical_accuracy: 0.7072\n",
      "Epoch 21/40\n",
      "162/162 [==============================] - 0s 775us/step - loss: 0.6979 - categorical_accuracy: 0.7834 - val_loss: 0.7112 - val_categorical_accuracy: 0.7072\n",
      "Epoch 22/40\n",
      "162/162 [==============================] - 0s 777us/step - loss: 0.6972 - categorical_accuracy: 0.7846 - val_loss: 0.7106 - val_categorical_accuracy: 0.7270\n",
      "Epoch 23/40\n",
      "162/162 [==============================] - 0s 771us/step - loss: 0.6966 - categorical_accuracy: 0.7877 - val_loss: 0.7102 - val_categorical_accuracy: 0.7221\n",
      "Epoch 24/40\n",
      "162/162 [==============================] - 0s 781us/step - loss: 0.6960 - categorical_accuracy: 0.7865 - val_loss: 0.7095 - val_categorical_accuracy: 0.7370\n",
      "Epoch 25/40\n",
      "162/162 [==============================] - 0s 769us/step - loss: 0.6954 - categorical_accuracy: 0.7871 - val_loss: 0.7090 - val_categorical_accuracy: 0.7370\n",
      "Epoch 26/40\n",
      "162/162 [==============================] - 0s 775us/step - loss: 0.6949 - categorical_accuracy: 0.7890 - val_loss: 0.7086 - val_categorical_accuracy: 0.7395\n",
      "Epoch 27/40\n",
      "162/162 [==============================] - 0s 782us/step - loss: 0.6943 - categorical_accuracy: 0.7883 - val_loss: 0.7082 - val_categorical_accuracy: 0.7395\n",
      "Epoch 28/40\n",
      "162/162 [==============================] - 0s 785us/step - loss: 0.6939 - categorical_accuracy: 0.7914 - val_loss: 0.7077 - val_categorical_accuracy: 0.7395\n",
      "Epoch 29/40\n",
      "162/162 [==============================] - 0s 768us/step - loss: 0.6935 - categorical_accuracy: 0.7908 - val_loss: 0.7073 - val_categorical_accuracy: 0.7395\n",
      "Epoch 30/40\n",
      "162/162 [==============================] - 0s 803us/step - loss: 0.6930 - categorical_accuracy: 0.7927 - val_loss: 0.7069 - val_categorical_accuracy: 0.7395\n",
      "Epoch 31/40\n",
      "162/162 [==============================] - 0s 776us/step - loss: 0.6925 - categorical_accuracy: 0.7927 - val_loss: 0.7065 - val_categorical_accuracy: 0.7395\n",
      "Epoch 32/40\n",
      "162/162 [==============================] - 0s 780us/step - loss: 0.6922 - categorical_accuracy: 0.7933 - val_loss: 0.7062 - val_categorical_accuracy: 0.7395\n",
      "Epoch 33/40\n",
      "162/162 [==============================] - 0s 760us/step - loss: 0.6918 - categorical_accuracy: 0.7927 - val_loss: 0.7058 - val_categorical_accuracy: 0.7444\n",
      "Epoch 34/40\n",
      "162/162 [==============================] - 0s 800us/step - loss: 0.6913 - categorical_accuracy: 0.7939 - val_loss: 0.7055 - val_categorical_accuracy: 0.7444\n",
      "Epoch 35/40\n",
      "162/162 [==============================] - 0s 776us/step - loss: 0.6910 - categorical_accuracy: 0.7939 - val_loss: 0.7051 - val_categorical_accuracy: 0.7444\n",
      "Epoch 36/40\n",
      "162/162 [==============================] - 0s 777us/step - loss: 0.6907 - categorical_accuracy: 0.7939 - val_loss: 0.7048 - val_categorical_accuracy: 0.7444\n",
      "Epoch 37/40\n",
      "162/162 [==============================] - 0s 790us/step - loss: 0.6903 - categorical_accuracy: 0.7958 - val_loss: 0.7045 - val_categorical_accuracy: 0.7444\n",
      "Epoch 38/40\n",
      "162/162 [==============================] - 0s 780us/step - loss: 0.6900 - categorical_accuracy: 0.7976 - val_loss: 0.7042 - val_categorical_accuracy: 0.7444\n",
      "Epoch 39/40\n",
      "162/162 [==============================] - 0s 777us/step - loss: 0.6897 - categorical_accuracy: 0.7970 - val_loss: 0.7039 - val_categorical_accuracy: 0.7469\n",
      "Epoch 40/40\n",
      "162/162 [==============================] - 0s 782us/step - loss: 0.6894 - categorical_accuracy: 0.7983 - val_loss: 0.7037 - val_categorical_accuracy: 0.7469\n",
      "21/21 [==============================] - 0s 637us/step - loss: 0.6870 - categorical_accuracy: 0.8182\n",
      "Test results - Loss: 0.6870362758636475 - Accuracy: 0.8181818127632141%\n",
      "Averaged Balanced Accuracy: 0.687778\n"
     ]
    }
   ],
   "source": [
    "config = {\n",
    "        'df_path': '../input/user1.features_labels.csv',\n",
    "        #'labels': labels\n",
    "}\n",
    "    \n",
    "har = utils.HAR(config)\n",
    "har.run()\n",
    "#har.hypertunning()"
   ]
  },
  {
   "cell_type": "code",
   "execution_count": 5,
   "id": "573d13fe",
   "metadata": {},
   "outputs": [
    {
     "name": "stdout",
     "output_type": "stream",
     "text": [
      "tf.Tensor(\n",
      "[[False False]\n",
      " [False False]\n",
      " [ True False]\n",
      " [False False]\n",
      " [False  True]], shape=(5, 2), dtype=bool)\n",
      "tf.Tensor([0. 0. 0. 1. 0.], shape=(5,), dtype=float32)\n",
      "tf.Tensor(0.2, shape=(), dtype=float32)\n"
     ]
    }
   ],
   "source": [
    "def nan_mse(y_actual, y_predicted):\n",
    "    stack = tf.stack((tf.math.is_nan(y_actual), \n",
    "                      tf.math.is_nan(y_predicted)),\n",
    "                     axis=1)\n",
    "    is_nans = tf.keras.backend.any(stack, axis=1)\n",
    "    per_instance = tf.where(is_nans,\n",
    "                            tf.zeros_like(y_actual),\n",
    "                            tf.square(tf.subtract(y_predicted, y_actual)))\n",
    "    print(stack)\n",
    "    print(per_instance)\n",
    "    return tf.reduce_mean(per_instance, axis=0)\n",
    "\n",
    "print(nan_mse([1.,1.,np.nan,1.,0.], [1.,1.,0.,0.,np.nan]))"
   ]
  },
  {
   "cell_type": "code",
   "execution_count": 6,
   "id": "d8f4dfa0",
   "metadata": {},
   "outputs": [
    {
     "name": "stdout",
     "output_type": "stream",
     "text": [
      "tf.Tensor(11.609928, shape=(), dtype=float32)\n"
     ]
    }
   ],
   "source": [
    "def remove_nans(x, y):\n",
    "    #mask = ~np.isnan(x) & ~np.isnan(y)\n",
    "    mask = tf.math.logical_and(tf.math.logical_not(tf.math.is_nan(x)), tf.math.logical_not(tf.math.is_nan(y)))\n",
    "    \n",
    "    marra = tf.boolean_mask(x, mask) #np.ma.MaskedArray(a, mask=~mask)\n",
    "    marrb = tf.boolean_mask(y, mask) #np.ma.MaskedArray(b, mask=~mask)\n",
    "\n",
    "    return marra, marrb #np.ma.compressed(marra), np.ma.compressed(marrb)\n",
    "\n",
    "\n",
    "def nan_bce(y_actual, y_predicted):\n",
    "    bce = tf.keras.losses.BinaryCrossentropy(from_logits=True)\n",
    "    y_predicted_masked, y_actual_masked = remove_nans(y_predicted, y_actual)\n",
    "    \n",
    "    return bce(y_predicted_masked, y_actual_masked)\n",
    "\n",
    "print(nan_bce([1.,1.,np.nan,1.,0.], [-18.6, 0.51, 2.94, -12.8,np.nan]))\n",
    "#print(nan_bce([1.,1.,0,1.,0.], [-18.6, 0.51, 2.94, -12.8,0]))"
   ]
  },
  {
   "cell_type": "code",
   "execution_count": 7,
   "id": "08b70821",
   "metadata": {},
   "outputs": [
    {
     "ename": "NameError",
     "evalue": "name 'raw' is not defined",
     "output_type": "error",
     "traceback": [
      "\u001b[0;31m---------------------------------------------------------------------------\u001b[0m",
      "\u001b[0;31mNameError\u001b[0m                                 Traceback (most recent call last)",
      "\u001b[0;32m/tmp/ipykernel_18622/2140765966.py\u001b[0m in \u001b[0;36m<module>\u001b[0;34m\u001b[0m\n\u001b[0;32m----> 1\u001b[0;31m \u001b[0mx\u001b[0m \u001b[0;34m=\u001b[0m \u001b[0mraw\u001b[0m\u001b[0;34m[\u001b[0m\u001b[0mraw\u001b[0m\u001b[0;34m.\u001b[0m\u001b[0mcolumns\u001b[0m\u001b[0;34m.\u001b[0m\u001b[0mdrop\u001b[0m\u001b[0;34m(\u001b[0m\u001b[0mraw\u001b[0m\u001b[0;34m.\u001b[0m\u001b[0mfilter\u001b[0m\u001b[0;34m(\u001b[0m\u001b[0mregex\u001b[0m\u001b[0;34m=\u001b[0m\u001b[0;34m'label:'\u001b[0m\u001b[0;34m)\u001b[0m\u001b[0;34m)\u001b[0m\u001b[0;34m]\u001b[0m\u001b[0;34m\u001b[0m\u001b[0;34m\u001b[0m\u001b[0m\n\u001b[0m\u001b[1;32m      2\u001b[0m \u001b[0my\u001b[0m \u001b[0;34m=\u001b[0m \u001b[0mraw\u001b[0m\u001b[0;34m.\u001b[0m\u001b[0mfilter\u001b[0m\u001b[0;34m(\u001b[0m\u001b[0mregex\u001b[0m\u001b[0;34m=\u001b[0m\u001b[0;34m'label:'\u001b[0m\u001b[0;34m)\u001b[0m\u001b[0;34m\u001b[0m\u001b[0;34m\u001b[0m\u001b[0m\n",
      "\u001b[0;31mNameError\u001b[0m: name 'raw' is not defined"
     ]
    }
   ],
   "source": [
    "x = raw[raw.columns.drop(raw.filter(regex='label:'))]\n",
    "y = raw.filter(regex='label:')"
   ]
  },
  {
   "cell_type": "code",
   "execution_count": null,
   "id": "662db0c7",
   "metadata": {},
   "outputs": [],
   "source": [
    "x"
   ]
  },
  {
   "cell_type": "code",
   "execution_count": null,
   "id": "b1d1d2ec",
   "metadata": {},
   "outputs": [],
   "source": [
    "bce = tf.keras.losses.BinaryCrossentropy(from_logits=True)\n",
    "bce([1],[18.6]).numpy()"
   ]
  },
  {
   "cell_type": "code",
   "execution_count": null,
   "id": "ea975486",
   "metadata": {},
   "outputs": [],
   "source": [
    "a, b = [1.,1.,np.nan,1.,0.], [-18.6, 0.51, 2.94, -12.8,np.nan]\n",
    "mask = ~np.isnan(a) & ~np.isnan(b)\n",
    "print(mask)\n",
    "marr = np.ma.MaskedArray(a, mask=~mask)\n",
    "marr\n",
    "np.ma.compressed(marr)\n",
    "#np.ma.compress_rows(marr)\n",
    "#mask = mask.astype(int)\n",
    "#a[mask]\n",
    "#a = a[mask]\n",
    "#b = b[mask]"
   ]
  },
  {
   "cell_type": "code",
   "execution_count": null,
   "id": "a9df829b",
   "metadata": {},
   "outputs": [],
   "source": [
    "nan_bce(a, b)"
   ]
  },
  {
   "cell_type": "code",
   "execution_count": null,
   "id": "32606bf5",
   "metadata": {},
   "outputs": [],
   "source": [
    "nan_bce([1.,1.,1.], [-18.6, 0.51, -12.8])"
   ]
  },
  {
   "cell_type": "code",
   "execution_count": null,
   "id": "a3cb3b82",
   "metadata": {},
   "outputs": [],
   "source": [
    "remove_nans(a, b)"
   ]
  },
  {
   "cell_type": "code",
   "execution_count": null,
   "id": "9d35c375",
   "metadata": {},
   "outputs": [],
   "source": [
    "aa, bb = remove_nans(a,b)\n",
    "bce(aa, bb)"
   ]
  },
  {
   "cell_type": "code",
   "execution_count": null,
   "id": "d6ccad54",
   "metadata": {},
   "outputs": [],
   "source": [
    "x = tf.constant([5.0, np.nan, 6.8, np.nan, np.inf])\n",
    " #==> [False, True, False, True, False]\n",
    "tf.math.logical_not(tf.math.is_nan(x))    "
   ]
  },
  {
   "cell_type": "code",
   "execution_count": null,
   "id": "209ba8b5",
   "metadata": {},
   "outputs": [],
   "source": [
    "tf.math.logical_and(tf.math.logical_not(tf.math.is_nan(x)), tf.math.is_nan(x))"
   ]
  },
  {
   "cell_type": "code",
   "execution_count": null,
   "id": "eba2ebe4",
   "metadata": {},
   "outputs": [],
   "source": [
    "y_pred = har.mlp.model.predict(har.data.x_test)\n",
    "y_test = har.data.y_test"
   ]
  },
  {
   "cell_type": "code",
   "execution_count": null,
   "id": "88620467",
   "metadata": {},
   "outputs": [],
   "source": [
    "from sklearn.metrics import classification_report\n",
    "\n",
    "def avg_multilabel_BA(y_truei, y_predi):\n",
    "    ba_array = []\n",
    "    y_true, y_pred = remove_nans_np(y_truei, y_predi)\n",
    "    print(y_true.shape)\n",
    "    print(y_truei.shape)\n",
    "    #print(len(y_true))\n",
    "    #print(len(y_truei))\n",
    "    for i in range(y_pred.shape[1]):\n",
    "        try:\n",
    "            report = classification_report(y_true.to_numpy()[:, i], (y_pred[:, i] > 0.5), output_dict=True, zero_division=0)\n",
    "        except:\n",
    "            report = classification_report(y_true[:, i], (y_pred[:, i] > 0.5), output_dict=True, zero_division=0)\n",
    "        #sensitivity = report['1.0']['recall'] # tp / (tp + fn)\n",
    "        specificity = report['0.0']['recall'] #specificity = tn / (tn+fp)\n",
    "        try:\n",
    "            sensitivity = report['1.0']['recall'] # tp / (tp + fn)\n",
    "        except:\n",
    "            sensitivity = specificity # tp / (tp + fn)\n",
    "        ba = 0.5*(specificity+sensitivity)\n",
    "        ba_array.append(ba)\n",
    "    return np.mean(ba_array)\n",
    "\n",
    "\n",
    "def remove_nans_np(x, y):\n",
    "    mask = ~np.isnan(x) & ~np.isnan(y)\n",
    "    #mask = math.logical_and(math.logical_not(math.is_nan(x)), math.logical_not(math.is_nan(y)))\n",
    "    \n",
    "    marra = np.ma.MaskedArray(x, mask=~mask)\n",
    "    marrb = np.ma.MaskedArray(y, mask=~mask)\n",
    "    print(marrb.shape)\n",
    "    #print(marrb)\n",
    "\n",
    "    return np.ma.compressed(marra).reshape(-1, 4), np.ma.compressed(marrb).reshape(-1, 4)"
   ]
  },
  {
   "cell_type": "code",
   "execution_count": null,
   "id": "338f098a",
   "metadata": {},
   "outputs": [],
   "source": [
    "avg_multilabel_BA(y_test, y_pred)"
   ]
  },
  {
   "cell_type": "code",
   "execution_count": null,
   "id": "a4ce98e7",
   "metadata": {},
   "outputs": [],
   "source": []
  }
 ],
 "metadata": {
  "interpreter": {
   "hash": "916dbcbb3f70747c44a77c7bcd40155683ae19c65e1c03b4aa3499c5328201f1"
  },
  "kernelspec": {
   "display_name": "Python 3 (ipykernel)",
   "language": "python",
   "name": "python3"
  },
  "language_info": {
   "codemirror_mode": {
    "name": "ipython",
    "version": 3
   },
   "file_extension": ".py",
   "mimetype": "text/x-python",
   "name": "python",
   "nbconvert_exporter": "python",
   "pygments_lexer": "ipython3",
   "version": "3.8.10"
  }
 },
 "nbformat": 4,
 "nbformat_minor": 5
}
