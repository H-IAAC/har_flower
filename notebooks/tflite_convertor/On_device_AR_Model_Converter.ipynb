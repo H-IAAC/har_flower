{
 "cells": [
  {
   "cell_type": "code",
   "execution_count": null,
   "metadata": {
    "id": "LmaI759C6Ktg"
   },
   "outputs": [],
   "source": [
    "!pip install tensorflow-gpu==2.6.2\n",
    "!pip install Pillow\n",
    "!pip install scipy"
   ]
  },
  {
   "cell_type": "code",
   "execution_count": 2,
   "metadata": {
    "colab": {
     "base_uri": "https://localhost:8080/"
    },
    "id": "YI-HS6zp26as",
    "outputId": "47d9356f-c2d3-46e3-aaba-d132e253e8da"
   },
   "outputs": [
    {
     "name": "stdout",
     "output_type": "stream",
     "text": [
      "2.7.0\n"
     ]
    }
   ],
   "source": [
    "#from google.colab import drive\n",
    "#drive.mount('/content/gdrive')\n",
    "\n",
    "import numpy as np\n",
    "import tensorflow as tf\n",
    "print(tf.__version__)\n",
    "import pandas as pd\n",
    "from tensorflow.keras.models import Model, Sequential\n",
    "from tensorflow.keras.optimizers import Adam\n",
    "from tensorflow.keras.regularizers import l2\n",
    "from tensorflow.keras.models import load_model, save_model\n",
    "from tensorflow.keras.layers import Input, Conv2D, Flatten, Dense, MaxPool2D, Reshape\n",
    "from tensorflow.keras.layers import LSTM"
   ]
  },
  {
   "cell_type": "code",
   "execution_count": 3,
   "metadata": {},
   "outputs": [],
   "source": [
    "# https://stackoverflow.com/questions/58352326/running-the-tensorflow-2-0-code-gives-valueerror-tf-function-decorated-functio\n",
    "tf.config.run_functions_eagerly(True)"
   ]
  },
  {
   "cell_type": "code",
   "execution_count": 3,
   "metadata": {
    "tags": []
   },
   "outputs": [],
   "source": [
    "acc = pd.read_csv('data/Activity recognition exp/Phones_accelerometer.csv')\n",
    "gyro = pd.read_csv('data/Activity recognition exp/Phones_gyroscope.csv')"
   ]
  },
  {
   "cell_type": "code",
   "execution_count": 4,
   "metadata": {},
   "outputs": [
    {
     "name": "stderr",
     "output_type": "stream",
     "text": [
      "/tmp/ipykernel_176266/3864482491.py:2: FutureWarning: In a future version of pandas all arguments of DataFrame.drop except for the argument 'labels' will be keyword-only\n",
      "  acc = acc.drop('Index', 1)\n"
     ]
    },
    {
     "data": {
      "text/html": [
       "<div>\n",
       "<style scoped>\n",
       "    .dataframe tbody tr th:only-of-type {\n",
       "        vertical-align: middle;\n",
       "    }\n",
       "\n",
       "    .dataframe tbody tr th {\n",
       "        vertical-align: top;\n",
       "    }\n",
       "\n",
       "    .dataframe thead th {\n",
       "        text-align: right;\n",
       "    }\n",
       "</style>\n",
       "<table border=\"1\" class=\"dataframe\">\n",
       "  <thead>\n",
       "    <tr style=\"text-align: right;\">\n",
       "      <th></th>\n",
       "      <th>Arrival_Time</th>\n",
       "      <th>Creation_Time</th>\n",
       "      <th>acc_x</th>\n",
       "      <th>acc_y</th>\n",
       "      <th>acc_z</th>\n",
       "      <th>User</th>\n",
       "      <th>Model</th>\n",
       "      <th>Device</th>\n",
       "      <th>gt</th>\n",
       "    </tr>\n",
       "  </thead>\n",
       "  <tbody>\n",
       "    <tr>\n",
       "      <th>0</th>\n",
       "      <td>1424696633908</td>\n",
       "      <td>1424696631913248572</td>\n",
       "      <td>-5.958191</td>\n",
       "      <td>0.688065</td>\n",
       "      <td>8.135345</td>\n",
       "      <td>a</td>\n",
       "      <td>nexus4</td>\n",
       "      <td>nexus4_1</td>\n",
       "      <td>stand</td>\n",
       "    </tr>\n",
       "    <tr>\n",
       "      <th>1</th>\n",
       "      <td>1424696633909</td>\n",
       "      <td>1424696631918283972</td>\n",
       "      <td>-5.952240</td>\n",
       "      <td>0.670212</td>\n",
       "      <td>8.136536</td>\n",
       "      <td>a</td>\n",
       "      <td>nexus4</td>\n",
       "      <td>nexus4_1</td>\n",
       "      <td>stand</td>\n",
       "    </tr>\n",
       "    <tr>\n",
       "      <th>2</th>\n",
       "      <td>1424696633918</td>\n",
       "      <td>1424696631923288855</td>\n",
       "      <td>-5.995087</td>\n",
       "      <td>0.653549</td>\n",
       "      <td>8.204376</td>\n",
       "      <td>a</td>\n",
       "      <td>nexus4</td>\n",
       "      <td>nexus4_1</td>\n",
       "      <td>stand</td>\n",
       "    </tr>\n",
       "    <tr>\n",
       "      <th>3</th>\n",
       "      <td>1424696633919</td>\n",
       "      <td>1424696631928385290</td>\n",
       "      <td>-5.942718</td>\n",
       "      <td>0.676163</td>\n",
       "      <td>8.128204</td>\n",
       "      <td>a</td>\n",
       "      <td>nexus4</td>\n",
       "      <td>nexus4_1</td>\n",
       "      <td>stand</td>\n",
       "    </tr>\n",
       "    <tr>\n",
       "      <th>4</th>\n",
       "      <td>1424696633929</td>\n",
       "      <td>1424696631933420691</td>\n",
       "      <td>-5.991516</td>\n",
       "      <td>0.641647</td>\n",
       "      <td>8.135345</td>\n",
       "      <td>a</td>\n",
       "      <td>nexus4</td>\n",
       "      <td>nexus4_1</td>\n",
       "      <td>stand</td>\n",
       "    </tr>\n",
       "    <tr>\n",
       "      <th>...</th>\n",
       "      <td>...</td>\n",
       "      <td>...</td>\n",
       "      <td>...</td>\n",
       "      <td>...</td>\n",
       "      <td>...</td>\n",
       "      <td>...</td>\n",
       "      <td>...</td>\n",
       "      <td>...</td>\n",
       "      <td>...</td>\n",
       "    </tr>\n",
       "    <tr>\n",
       "      <th>13062470</th>\n",
       "      <td>1424778553315</td>\n",
       "      <td>92263781761000</td>\n",
       "      <td>1.379043</td>\n",
       "      <td>0.153227</td>\n",
       "      <td>9.959755</td>\n",
       "      <td>i</td>\n",
       "      <td>samsungold</td>\n",
       "      <td>samsungold_2</td>\n",
       "      <td>bike</td>\n",
       "    </tr>\n",
       "    <tr>\n",
       "      <th>13062471</th>\n",
       "      <td>1424778553346</td>\n",
       "      <td>92263812248000</td>\n",
       "      <td>1.379043</td>\n",
       "      <td>0.153227</td>\n",
       "      <td>9.806528</td>\n",
       "      <td>i</td>\n",
       "      <td>samsungold</td>\n",
       "      <td>samsungold_2</td>\n",
       "      <td>bike</td>\n",
       "    </tr>\n",
       "    <tr>\n",
       "      <th>13062472</th>\n",
       "      <td>1424778553366</td>\n",
       "      <td>92263832267000</td>\n",
       "      <td>1.532270</td>\n",
       "      <td>0.153227</td>\n",
       "      <td>9.806528</td>\n",
       "      <td>i</td>\n",
       "      <td>samsungold</td>\n",
       "      <td>samsungold_2</td>\n",
       "      <td>bike</td>\n",
       "    </tr>\n",
       "    <tr>\n",
       "      <th>13062473</th>\n",
       "      <td>1424778553386</td>\n",
       "      <td>92263852409000</td>\n",
       "      <td>1.532270</td>\n",
       "      <td>0.000000</td>\n",
       "      <td>9.959755</td>\n",
       "      <td>i</td>\n",
       "      <td>samsungold</td>\n",
       "      <td>samsungold_2</td>\n",
       "      <td>bike</td>\n",
       "    </tr>\n",
       "    <tr>\n",
       "      <th>13062474</th>\n",
       "      <td>1424778553395</td>\n",
       "      <td>92263861839000</td>\n",
       "      <td>1.379043</td>\n",
       "      <td>0.000000</td>\n",
       "      <td>9.959755</td>\n",
       "      <td>i</td>\n",
       "      <td>samsungold</td>\n",
       "      <td>samsungold_2</td>\n",
       "      <td>bike</td>\n",
       "    </tr>\n",
       "  </tbody>\n",
       "</table>\n",
       "<p>13062475 rows × 9 columns</p>\n",
       "</div>"
      ],
      "text/plain": [
       "           Arrival_Time        Creation_Time     acc_x     acc_y     acc_z  \\\n",
       "0         1424696633908  1424696631913248572 -5.958191  0.688065  8.135345   \n",
       "1         1424696633909  1424696631918283972 -5.952240  0.670212  8.136536   \n",
       "2         1424696633918  1424696631923288855 -5.995087  0.653549  8.204376   \n",
       "3         1424696633919  1424696631928385290 -5.942718  0.676163  8.128204   \n",
       "4         1424696633929  1424696631933420691 -5.991516  0.641647  8.135345   \n",
       "...                 ...                  ...       ...       ...       ...   \n",
       "13062470  1424778553315       92263781761000  1.379043  0.153227  9.959755   \n",
       "13062471  1424778553346       92263812248000  1.379043  0.153227  9.806528   \n",
       "13062472  1424778553366       92263832267000  1.532270  0.153227  9.806528   \n",
       "13062473  1424778553386       92263852409000  1.532270  0.000000  9.959755   \n",
       "13062474  1424778553395       92263861839000  1.379043  0.000000  9.959755   \n",
       "\n",
       "         User       Model        Device     gt  \n",
       "0           a      nexus4      nexus4_1  stand  \n",
       "1           a      nexus4      nexus4_1  stand  \n",
       "2           a      nexus4      nexus4_1  stand  \n",
       "3           a      nexus4      nexus4_1  stand  \n",
       "4           a      nexus4      nexus4_1  stand  \n",
       "...       ...         ...           ...    ...  \n",
       "13062470    i  samsungold  samsungold_2   bike  \n",
       "13062471    i  samsungold  samsungold_2   bike  \n",
       "13062472    i  samsungold  samsungold_2   bike  \n",
       "13062473    i  samsungold  samsungold_2   bike  \n",
       "13062474    i  samsungold  samsungold_2   bike  \n",
       "\n",
       "[13062475 rows x 9 columns]"
      ]
     },
     "execution_count": 4,
     "metadata": {},
     "output_type": "execute_result"
    }
   ],
   "source": [
    "acc.rename(columns={'x': 'acc_x', 'y': 'acc_y','z': 'acc_z'}, inplace=True)\n",
    "acc = acc.drop('Index', 1)\n",
    "acc"
   ]
  },
  {
   "cell_type": "code",
   "execution_count": 5,
   "metadata": {},
   "outputs": [
    {
     "name": "stderr",
     "output_type": "stream",
     "text": [
      "/tmp/ipykernel_176266/574328431.py:2: FutureWarning: In a future version of pandas all arguments of DataFrame.drop except for the argument 'labels' will be keyword-only\n",
      "  gyro = gyro.drop('Index', 1)\n"
     ]
    },
    {
     "data": {
      "text/html": [
       "<div>\n",
       "<style scoped>\n",
       "    .dataframe tbody tr th:only-of-type {\n",
       "        vertical-align: middle;\n",
       "    }\n",
       "\n",
       "    .dataframe tbody tr th {\n",
       "        vertical-align: top;\n",
       "    }\n",
       "\n",
       "    .dataframe thead th {\n",
       "        text-align: right;\n",
       "    }\n",
       "</style>\n",
       "<table border=\"1\" class=\"dataframe\">\n",
       "  <thead>\n",
       "    <tr style=\"text-align: right;\">\n",
       "      <th></th>\n",
       "      <th>Arrival_Time</th>\n",
       "      <th>Creation_Time</th>\n",
       "      <th>gyro_x</th>\n",
       "      <th>gyro_y</th>\n",
       "      <th>gyro_z</th>\n",
       "      <th>User</th>\n",
       "      <th>Model</th>\n",
       "      <th>Device</th>\n",
       "      <th>gt</th>\n",
       "    </tr>\n",
       "  </thead>\n",
       "  <tbody>\n",
       "    <tr>\n",
       "      <th>0</th>\n",
       "      <td>1424696633909</td>\n",
       "      <td>1424696631914042029</td>\n",
       "      <td>0.013748</td>\n",
       "      <td>-0.000626</td>\n",
       "      <td>-0.023376</td>\n",
       "      <td>a</td>\n",
       "      <td>nexus4</td>\n",
       "      <td>nexus4_1</td>\n",
       "      <td>stand</td>\n",
       "    </tr>\n",
       "    <tr>\n",
       "      <th>1</th>\n",
       "      <td>1424696633909</td>\n",
       "      <td>1424696631919046912</td>\n",
       "      <td>0.014816</td>\n",
       "      <td>-0.001694</td>\n",
       "      <td>-0.022308</td>\n",
       "      <td>a</td>\n",
       "      <td>nexus4</td>\n",
       "      <td>nexus4_1</td>\n",
       "      <td>stand</td>\n",
       "    </tr>\n",
       "    <tr>\n",
       "      <th>2</th>\n",
       "      <td>1424696633918</td>\n",
       "      <td>1424696631924051794</td>\n",
       "      <td>0.015884</td>\n",
       "      <td>-0.001694</td>\n",
       "      <td>-0.021240</td>\n",
       "      <td>a</td>\n",
       "      <td>nexus4</td>\n",
       "      <td>nexus4_1</td>\n",
       "      <td>stand</td>\n",
       "    </tr>\n",
       "    <tr>\n",
       "      <th>3</th>\n",
       "      <td>1424696633919</td>\n",
       "      <td>1424696631929117712</td>\n",
       "      <td>0.016953</td>\n",
       "      <td>-0.003830</td>\n",
       "      <td>-0.020172</td>\n",
       "      <td>a</td>\n",
       "      <td>nexus4</td>\n",
       "      <td>nexus4_1</td>\n",
       "      <td>stand</td>\n",
       "    </tr>\n",
       "    <tr>\n",
       "      <th>4</th>\n",
       "      <td>1424696633928</td>\n",
       "      <td>1424696631934214148</td>\n",
       "      <td>0.015884</td>\n",
       "      <td>-0.007034</td>\n",
       "      <td>-0.020172</td>\n",
       "      <td>a</td>\n",
       "      <td>nexus4</td>\n",
       "      <td>nexus4_1</td>\n",
       "      <td>stand</td>\n",
       "    </tr>\n",
       "    <tr>\n",
       "      <th>...</th>\n",
       "      <td>...</td>\n",
       "      <td>...</td>\n",
       "      <td>...</td>\n",
       "      <td>...</td>\n",
       "      <td>...</td>\n",
       "      <td>...</td>\n",
       "      <td>...</td>\n",
       "      <td>...</td>\n",
       "      <td>...</td>\n",
       "    </tr>\n",
       "    <tr>\n",
       "      <th>13932627</th>\n",
       "      <td>1424778269892</td>\n",
       "      <td>79199637493000</td>\n",
       "      <td>-0.046844</td>\n",
       "      <td>0.337667</td>\n",
       "      <td>0.134677</td>\n",
       "      <td>i</td>\n",
       "      <td>s3mini</td>\n",
       "      <td>s3mini_2</td>\n",
       "      <td>bike</td>\n",
       "    </tr>\n",
       "    <tr>\n",
       "      <th>13932628</th>\n",
       "      <td>1424778269906</td>\n",
       "      <td>79199651618000</td>\n",
       "      <td>-0.117598</td>\n",
       "      <td>0.221777</td>\n",
       "      <td>0.131749</td>\n",
       "      <td>i</td>\n",
       "      <td>s3mini</td>\n",
       "      <td>s3mini_2</td>\n",
       "      <td>bike</td>\n",
       "    </tr>\n",
       "    <tr>\n",
       "      <th>13932629</th>\n",
       "      <td>1424778269920</td>\n",
       "      <td>79199665927000</td>\n",
       "      <td>-0.177617</td>\n",
       "      <td>0.056115</td>\n",
       "      <td>0.095152</td>\n",
       "      <td>i</td>\n",
       "      <td>s3mini</td>\n",
       "      <td>s3mini_2</td>\n",
       "      <td>bike</td>\n",
       "    </tr>\n",
       "    <tr>\n",
       "      <th>13932630</th>\n",
       "      <td>1424778269932</td>\n",
       "      <td>79199677489000</td>\n",
       "      <td>-0.195183</td>\n",
       "      <td>-0.124429</td>\n",
       "      <td>0.063191</td>\n",
       "      <td>i</td>\n",
       "      <td>s3mini</td>\n",
       "      <td>s3mini_2</td>\n",
       "      <td>bike</td>\n",
       "    </tr>\n",
       "    <tr>\n",
       "      <th>13932631</th>\n",
       "      <td>1424778269953</td>\n",
       "      <td>79199698266000</td>\n",
       "      <td>-0.162002</td>\n",
       "      <td>-0.208846</td>\n",
       "      <td>0.043184</td>\n",
       "      <td>i</td>\n",
       "      <td>s3mini</td>\n",
       "      <td>s3mini_2</td>\n",
       "      <td>bike</td>\n",
       "    </tr>\n",
       "  </tbody>\n",
       "</table>\n",
       "<p>13932632 rows × 9 columns</p>\n",
       "</div>"
      ],
      "text/plain": [
       "           Arrival_Time        Creation_Time    gyro_x    gyro_y    gyro_z  \\\n",
       "0         1424696633909  1424696631914042029  0.013748 -0.000626 -0.023376   \n",
       "1         1424696633909  1424696631919046912  0.014816 -0.001694 -0.022308   \n",
       "2         1424696633918  1424696631924051794  0.015884 -0.001694 -0.021240   \n",
       "3         1424696633919  1424696631929117712  0.016953 -0.003830 -0.020172   \n",
       "4         1424696633928  1424696631934214148  0.015884 -0.007034 -0.020172   \n",
       "...                 ...                  ...       ...       ...       ...   \n",
       "13932627  1424778269892       79199637493000 -0.046844  0.337667  0.134677   \n",
       "13932628  1424778269906       79199651618000 -0.117598  0.221777  0.131749   \n",
       "13932629  1424778269920       79199665927000 -0.177617  0.056115  0.095152   \n",
       "13932630  1424778269932       79199677489000 -0.195183 -0.124429  0.063191   \n",
       "13932631  1424778269953       79199698266000 -0.162002 -0.208846  0.043184   \n",
       "\n",
       "         User   Model    Device     gt  \n",
       "0           a  nexus4  nexus4_1  stand  \n",
       "1           a  nexus4  nexus4_1  stand  \n",
       "2           a  nexus4  nexus4_1  stand  \n",
       "3           a  nexus4  nexus4_1  stand  \n",
       "4           a  nexus4  nexus4_1  stand  \n",
       "...       ...     ...       ...    ...  \n",
       "13932627    i  s3mini  s3mini_2   bike  \n",
       "13932628    i  s3mini  s3mini_2   bike  \n",
       "13932629    i  s3mini  s3mini_2   bike  \n",
       "13932630    i  s3mini  s3mini_2   bike  \n",
       "13932631    i  s3mini  s3mini_2   bike  \n",
       "\n",
       "[13932632 rows x 9 columns]"
      ]
     },
     "execution_count": 5,
     "metadata": {},
     "output_type": "execute_result"
    }
   ],
   "source": [
    "gyro.rename(columns={'x': 'gyro_x', 'y': 'gyro_y','z': 'gyro_z'}, inplace=True)\n",
    "gyro = gyro.drop('Index', 1)\n",
    "gyro"
   ]
  },
  {
   "cell_type": "code",
   "execution_count": 6,
   "metadata": {},
   "outputs": [
    {
     "data": {
      "text/html": [
       "<div>\n",
       "<style scoped>\n",
       "    .dataframe tbody tr th:only-of-type {\n",
       "        vertical-align: middle;\n",
       "    }\n",
       "\n",
       "    .dataframe tbody tr th {\n",
       "        vertical-align: top;\n",
       "    }\n",
       "\n",
       "    .dataframe thead th {\n",
       "        text-align: right;\n",
       "    }\n",
       "</style>\n",
       "<table border=\"1\" class=\"dataframe\">\n",
       "  <thead>\n",
       "    <tr style=\"text-align: right;\">\n",
       "      <th></th>\n",
       "      <th>Arrival_Time</th>\n",
       "      <th>Creation_Time_x</th>\n",
       "      <th>acc_x</th>\n",
       "      <th>acc_y</th>\n",
       "      <th>acc_z</th>\n",
       "      <th>User_x</th>\n",
       "      <th>Model_x</th>\n",
       "      <th>Device_x</th>\n",
       "      <th>gt_x</th>\n",
       "      <th>Creation_Time_y</th>\n",
       "      <th>gyro_x</th>\n",
       "      <th>gyro_y</th>\n",
       "      <th>gyro_z</th>\n",
       "      <th>User_y</th>\n",
       "      <th>Model_y</th>\n",
       "      <th>Device_y</th>\n",
       "      <th>gt_y</th>\n",
       "    </tr>\n",
       "  </thead>\n",
       "  <tbody>\n",
       "    <tr>\n",
       "      <th>0</th>\n",
       "      <td>1424696633908</td>\n",
       "      <td>1424696631913248572</td>\n",
       "      <td>-5.958191</td>\n",
       "      <td>0.688065</td>\n",
       "      <td>8.135345</td>\n",
       "      <td>a</td>\n",
       "      <td>nexus4</td>\n",
       "      <td>nexus4_1</td>\n",
       "      <td>stand</td>\n",
       "      <td>274248791573000</td>\n",
       "      <td>0.024129</td>\n",
       "      <td>-0.020769</td>\n",
       "      <td>0.008552</td>\n",
       "      <td>a</td>\n",
       "      <td>s3</td>\n",
       "      <td>s3_2</td>\n",
       "      <td>stand</td>\n",
       "    </tr>\n",
       "    <tr>\n",
       "      <th>1</th>\n",
       "      <td>1424696633909</td>\n",
       "      <td>1424696631918283972</td>\n",
       "      <td>-5.952240</td>\n",
       "      <td>0.670212</td>\n",
       "      <td>8.136536</td>\n",
       "      <td>a</td>\n",
       "      <td>nexus4</td>\n",
       "      <td>nexus4_1</td>\n",
       "      <td>stand</td>\n",
       "      <td>1424696631914042029</td>\n",
       "      <td>0.013748</td>\n",
       "      <td>-0.000626</td>\n",
       "      <td>-0.023376</td>\n",
       "      <td>a</td>\n",
       "      <td>nexus4</td>\n",
       "      <td>nexus4_1</td>\n",
       "      <td>stand</td>\n",
       "    </tr>\n",
       "    <tr>\n",
       "      <th>2</th>\n",
       "      <td>1424696633909</td>\n",
       "      <td>1424696631918283972</td>\n",
       "      <td>-5.952240</td>\n",
       "      <td>0.670212</td>\n",
       "      <td>8.136536</td>\n",
       "      <td>a</td>\n",
       "      <td>nexus4</td>\n",
       "      <td>nexus4_1</td>\n",
       "      <td>stand</td>\n",
       "      <td>1424696631919046912</td>\n",
       "      <td>0.014816</td>\n",
       "      <td>-0.001694</td>\n",
       "      <td>-0.022308</td>\n",
       "      <td>a</td>\n",
       "      <td>nexus4</td>\n",
       "      <td>nexus4_1</td>\n",
       "      <td>stand</td>\n",
       "    </tr>\n",
       "    <tr>\n",
       "      <th>3</th>\n",
       "      <td>1424696633918</td>\n",
       "      <td>1424696631923288855</td>\n",
       "      <td>-5.995087</td>\n",
       "      <td>0.653549</td>\n",
       "      <td>8.204376</td>\n",
       "      <td>a</td>\n",
       "      <td>nexus4</td>\n",
       "      <td>nexus4_1</td>\n",
       "      <td>stand</td>\n",
       "      <td>1424696631924051794</td>\n",
       "      <td>0.015884</td>\n",
       "      <td>-0.001694</td>\n",
       "      <td>-0.021240</td>\n",
       "      <td>a</td>\n",
       "      <td>nexus4</td>\n",
       "      <td>nexus4_1</td>\n",
       "      <td>stand</td>\n",
       "    </tr>\n",
       "    <tr>\n",
       "      <th>4</th>\n",
       "      <td>1424696633918</td>\n",
       "      <td>1424696631923288855</td>\n",
       "      <td>-5.995087</td>\n",
       "      <td>0.653549</td>\n",
       "      <td>8.204376</td>\n",
       "      <td>a</td>\n",
       "      <td>nexus4</td>\n",
       "      <td>nexus4_1</td>\n",
       "      <td>stand</td>\n",
       "      <td>274248801573000</td>\n",
       "      <td>0.023518</td>\n",
       "      <td>-0.017410</td>\n",
       "      <td>0.007636</td>\n",
       "      <td>a</td>\n",
       "      <td>s3</td>\n",
       "      <td>s3_2</td>\n",
       "      <td>stand</td>\n",
       "    </tr>\n",
       "    <tr>\n",
       "      <th>...</th>\n",
       "      <td>...</td>\n",
       "      <td>...</td>\n",
       "      <td>...</td>\n",
       "      <td>...</td>\n",
       "      <td>...</td>\n",
       "      <td>...</td>\n",
       "      <td>...</td>\n",
       "      <td>...</td>\n",
       "      <td>...</td>\n",
       "      <td>...</td>\n",
       "      <td>...</td>\n",
       "      <td>...</td>\n",
       "      <td>...</td>\n",
       "      <td>...</td>\n",
       "      <td>...</td>\n",
       "      <td>...</td>\n",
       "      <td>...</td>\n",
       "    </tr>\n",
       "    <tr>\n",
       "      <th>12726170</th>\n",
       "      <td>1424778553235</td>\n",
       "      <td>92263701744000</td>\n",
       "      <td>1.532270</td>\n",
       "      <td>0.000000</td>\n",
       "      <td>9.806528</td>\n",
       "      <td>i</td>\n",
       "      <td>samsungold</td>\n",
       "      <td>samsungold_2</td>\n",
       "      <td>bike</td>\n",
       "      <td>1424778556726097080</td>\n",
       "      <td>-0.017624</td>\n",
       "      <td>0.005386</td>\n",
       "      <td>0.008514</td>\n",
       "      <td>i</td>\n",
       "      <td>nexus4</td>\n",
       "      <td>nexus4_1</td>\n",
       "      <td>bike</td>\n",
       "    </tr>\n",
       "    <tr>\n",
       "      <th>12726171</th>\n",
       "      <td>1424778553256</td>\n",
       "      <td>92263722252000</td>\n",
       "      <td>1.379043</td>\n",
       "      <td>0.000000</td>\n",
       "      <td>9.959755</td>\n",
       "      <td>i</td>\n",
       "      <td>samsungold</td>\n",
       "      <td>samsungold_2</td>\n",
       "      <td>bike</td>\n",
       "      <td>2902562935000</td>\n",
       "      <td>-0.032693</td>\n",
       "      <td>-0.012687</td>\n",
       "      <td>-0.008539</td>\n",
       "      <td>i</td>\n",
       "      <td>s3mini</td>\n",
       "      <td>s3mini_1</td>\n",
       "      <td>bike</td>\n",
       "    </tr>\n",
       "    <tr>\n",
       "      <th>12726172</th>\n",
       "      <td>1424778553286</td>\n",
       "      <td>92263752250000</td>\n",
       "      <td>1.532270</td>\n",
       "      <td>0.153227</td>\n",
       "      <td>9.959755</td>\n",
       "      <td>i</td>\n",
       "      <td>samsungold</td>\n",
       "      <td>samsungold_2</td>\n",
       "      <td>bike</td>\n",
       "      <td>2902592809000</td>\n",
       "      <td>-0.031717</td>\n",
       "      <td>-0.006831</td>\n",
       "      <td>-0.006099</td>\n",
       "      <td>i</td>\n",
       "      <td>s3mini</td>\n",
       "      <td>s3mini_1</td>\n",
       "      <td>bike</td>\n",
       "    </tr>\n",
       "    <tr>\n",
       "      <th>12726173</th>\n",
       "      <td>1424778553306</td>\n",
       "      <td>92263772270000</td>\n",
       "      <td>1.379043</td>\n",
       "      <td>0.000000</td>\n",
       "      <td>9.959755</td>\n",
       "      <td>i</td>\n",
       "      <td>samsungold</td>\n",
       "      <td>samsungold_2</td>\n",
       "      <td>bike</td>\n",
       "      <td>2902612796000</td>\n",
       "      <td>-0.030741</td>\n",
       "      <td>-0.002928</td>\n",
       "      <td>-0.003904</td>\n",
       "      <td>i</td>\n",
       "      <td>s3mini</td>\n",
       "      <td>s3mini_1</td>\n",
       "      <td>bike</td>\n",
       "    </tr>\n",
       "    <tr>\n",
       "      <th>12726174</th>\n",
       "      <td>1424778553346</td>\n",
       "      <td>92263812248000</td>\n",
       "      <td>1.379043</td>\n",
       "      <td>0.153227</td>\n",
       "      <td>9.806528</td>\n",
       "      <td>i</td>\n",
       "      <td>samsungold</td>\n",
       "      <td>samsungold_2</td>\n",
       "      <td>bike</td>\n",
       "      <td>1424778556836936924</td>\n",
       "      <td>-0.011215</td>\n",
       "      <td>0.006454</td>\n",
       "      <td>0.007446</td>\n",
       "      <td>i</td>\n",
       "      <td>nexus4</td>\n",
       "      <td>nexus4_1</td>\n",
       "      <td>bike</td>\n",
       "    </tr>\n",
       "  </tbody>\n",
       "</table>\n",
       "<p>12726175 rows × 17 columns</p>\n",
       "</div>"
      ],
      "text/plain": [
       "           Arrival_Time      Creation_Time_x     acc_x     acc_y     acc_z  \\\n",
       "0         1424696633908  1424696631913248572 -5.958191  0.688065  8.135345   \n",
       "1         1424696633909  1424696631918283972 -5.952240  0.670212  8.136536   \n",
       "2         1424696633909  1424696631918283972 -5.952240  0.670212  8.136536   \n",
       "3         1424696633918  1424696631923288855 -5.995087  0.653549  8.204376   \n",
       "4         1424696633918  1424696631923288855 -5.995087  0.653549  8.204376   \n",
       "...                 ...                  ...       ...       ...       ...   \n",
       "12726170  1424778553235       92263701744000  1.532270  0.000000  9.806528   \n",
       "12726171  1424778553256       92263722252000  1.379043  0.000000  9.959755   \n",
       "12726172  1424778553286       92263752250000  1.532270  0.153227  9.959755   \n",
       "12726173  1424778553306       92263772270000  1.379043  0.000000  9.959755   \n",
       "12726174  1424778553346       92263812248000  1.379043  0.153227  9.806528   \n",
       "\n",
       "         User_x     Model_x      Device_x   gt_x      Creation_Time_y  \\\n",
       "0             a      nexus4      nexus4_1  stand      274248791573000   \n",
       "1             a      nexus4      nexus4_1  stand  1424696631914042029   \n",
       "2             a      nexus4      nexus4_1  stand  1424696631919046912   \n",
       "3             a      nexus4      nexus4_1  stand  1424696631924051794   \n",
       "4             a      nexus4      nexus4_1  stand      274248801573000   \n",
       "...         ...         ...           ...    ...                  ...   \n",
       "12726170      i  samsungold  samsungold_2   bike  1424778556726097080   \n",
       "12726171      i  samsungold  samsungold_2   bike        2902562935000   \n",
       "12726172      i  samsungold  samsungold_2   bike        2902592809000   \n",
       "12726173      i  samsungold  samsungold_2   bike        2902612796000   \n",
       "12726174      i  samsungold  samsungold_2   bike  1424778556836936924   \n",
       "\n",
       "            gyro_x    gyro_y    gyro_z User_y Model_y  Device_y   gt_y  \n",
       "0         0.024129 -0.020769  0.008552      a      s3      s3_2  stand  \n",
       "1         0.013748 -0.000626 -0.023376      a  nexus4  nexus4_1  stand  \n",
       "2         0.014816 -0.001694 -0.022308      a  nexus4  nexus4_1  stand  \n",
       "3         0.015884 -0.001694 -0.021240      a  nexus4  nexus4_1  stand  \n",
       "4         0.023518 -0.017410  0.007636      a      s3      s3_2  stand  \n",
       "...            ...       ...       ...    ...     ...       ...    ...  \n",
       "12726170 -0.017624  0.005386  0.008514      i  nexus4  nexus4_1   bike  \n",
       "12726171 -0.032693 -0.012687 -0.008539      i  s3mini  s3mini_1   bike  \n",
       "12726172 -0.031717 -0.006831 -0.006099      i  s3mini  s3mini_1   bike  \n",
       "12726173 -0.030741 -0.002928 -0.003904      i  s3mini  s3mini_1   bike  \n",
       "12726174 -0.011215  0.006454  0.007446      i  nexus4  nexus4_1   bike  \n",
       "\n",
       "[12726175 rows x 17 columns]"
      ]
     },
     "execution_count": 6,
     "metadata": {},
     "output_type": "execute_result"
    }
   ],
   "source": [
    "df = acc.merge(gyro, on='Arrival_Time')\n",
    "df"
   ]
  },
  {
   "cell_type": "code",
   "execution_count": 7,
   "metadata": {},
   "outputs": [],
   "source": [
    "df.rename(columns={'Creation_Time_x': 'Creation_Time_acc', 'Creation_Time_y': 'Creation_Time_gyro', 'User_x': 'User_acc', 'User_y': 'User_gyro', 'Device_x': 'Device_acc', 'Device_y': 'Device_gyro', 'gt_x': 'gt_acc', 'gt_y': 'gt_gyro', 'Model_x': 'Model_acc', 'Model_y': 'Model_gyro'}, inplace=True)"
   ]
  },
  {
   "cell_type": "code",
   "execution_count": 8,
   "metadata": {},
   "outputs": [
    {
     "data": {
      "text/html": [
       "<div>\n",
       "<style scoped>\n",
       "    .dataframe tbody tr th:only-of-type {\n",
       "        vertical-align: middle;\n",
       "    }\n",
       "\n",
       "    .dataframe tbody tr th {\n",
       "        vertical-align: top;\n",
       "    }\n",
       "\n",
       "    .dataframe thead th {\n",
       "        text-align: right;\n",
       "    }\n",
       "</style>\n",
       "<table border=\"1\" class=\"dataframe\">\n",
       "  <thead>\n",
       "    <tr style=\"text-align: right;\">\n",
       "      <th></th>\n",
       "      <th>Arrival_Time</th>\n",
       "      <th>Creation_Time_acc</th>\n",
       "      <th>acc_x</th>\n",
       "      <th>acc_y</th>\n",
       "      <th>acc_z</th>\n",
       "      <th>User_acc</th>\n",
       "      <th>Model_acc</th>\n",
       "      <th>Device_acc</th>\n",
       "      <th>gt_acc</th>\n",
       "      <th>Creation_Time_gyro</th>\n",
       "      <th>gyro_x</th>\n",
       "      <th>gyro_y</th>\n",
       "      <th>gyro_z</th>\n",
       "      <th>User_gyro</th>\n",
       "      <th>Model_gyro</th>\n",
       "      <th>Device_gyro</th>\n",
       "      <th>gt_gyro</th>\n",
       "    </tr>\n",
       "  </thead>\n",
       "  <tbody>\n",
       "    <tr>\n",
       "      <th>0</th>\n",
       "      <td>1424696633908</td>\n",
       "      <td>1424696631913248572</td>\n",
       "      <td>-5.958191</td>\n",
       "      <td>0.688065</td>\n",
       "      <td>8.135345</td>\n",
       "      <td>a</td>\n",
       "      <td>nexus4</td>\n",
       "      <td>nexus4_1</td>\n",
       "      <td>stand</td>\n",
       "      <td>274248791573000</td>\n",
       "      <td>0.024129</td>\n",
       "      <td>-0.020769</td>\n",
       "      <td>0.008552</td>\n",
       "      <td>a</td>\n",
       "      <td>s3</td>\n",
       "      <td>s3_2</td>\n",
       "      <td>stand</td>\n",
       "    </tr>\n",
       "    <tr>\n",
       "      <th>1</th>\n",
       "      <td>1424696633909</td>\n",
       "      <td>1424696631918283972</td>\n",
       "      <td>-5.952240</td>\n",
       "      <td>0.670212</td>\n",
       "      <td>8.136536</td>\n",
       "      <td>a</td>\n",
       "      <td>nexus4</td>\n",
       "      <td>nexus4_1</td>\n",
       "      <td>stand</td>\n",
       "      <td>1424696631914042029</td>\n",
       "      <td>0.013748</td>\n",
       "      <td>-0.000626</td>\n",
       "      <td>-0.023376</td>\n",
       "      <td>a</td>\n",
       "      <td>nexus4</td>\n",
       "      <td>nexus4_1</td>\n",
       "      <td>stand</td>\n",
       "    </tr>\n",
       "    <tr>\n",
       "      <th>2</th>\n",
       "      <td>1424696633909</td>\n",
       "      <td>1424696631918283972</td>\n",
       "      <td>-5.952240</td>\n",
       "      <td>0.670212</td>\n",
       "      <td>8.136536</td>\n",
       "      <td>a</td>\n",
       "      <td>nexus4</td>\n",
       "      <td>nexus4_1</td>\n",
       "      <td>stand</td>\n",
       "      <td>1424696631919046912</td>\n",
       "      <td>0.014816</td>\n",
       "      <td>-0.001694</td>\n",
       "      <td>-0.022308</td>\n",
       "      <td>a</td>\n",
       "      <td>nexus4</td>\n",
       "      <td>nexus4_1</td>\n",
       "      <td>stand</td>\n",
       "    </tr>\n",
       "    <tr>\n",
       "      <th>3</th>\n",
       "      <td>1424696633918</td>\n",
       "      <td>1424696631923288855</td>\n",
       "      <td>-5.995087</td>\n",
       "      <td>0.653549</td>\n",
       "      <td>8.204376</td>\n",
       "      <td>a</td>\n",
       "      <td>nexus4</td>\n",
       "      <td>nexus4_1</td>\n",
       "      <td>stand</td>\n",
       "      <td>1424696631924051794</td>\n",
       "      <td>0.015884</td>\n",
       "      <td>-0.001694</td>\n",
       "      <td>-0.021240</td>\n",
       "      <td>a</td>\n",
       "      <td>nexus4</td>\n",
       "      <td>nexus4_1</td>\n",
       "      <td>stand</td>\n",
       "    </tr>\n",
       "    <tr>\n",
       "      <th>4</th>\n",
       "      <td>1424696633918</td>\n",
       "      <td>1424696631923288855</td>\n",
       "      <td>-5.995087</td>\n",
       "      <td>0.653549</td>\n",
       "      <td>8.204376</td>\n",
       "      <td>a</td>\n",
       "      <td>nexus4</td>\n",
       "      <td>nexus4_1</td>\n",
       "      <td>stand</td>\n",
       "      <td>274248801573000</td>\n",
       "      <td>0.023518</td>\n",
       "      <td>-0.017410</td>\n",
       "      <td>0.007636</td>\n",
       "      <td>a</td>\n",
       "      <td>s3</td>\n",
       "      <td>s3_2</td>\n",
       "      <td>stand</td>\n",
       "    </tr>\n",
       "    <tr>\n",
       "      <th>...</th>\n",
       "      <td>...</td>\n",
       "      <td>...</td>\n",
       "      <td>...</td>\n",
       "      <td>...</td>\n",
       "      <td>...</td>\n",
       "      <td>...</td>\n",
       "      <td>...</td>\n",
       "      <td>...</td>\n",
       "      <td>...</td>\n",
       "      <td>...</td>\n",
       "      <td>...</td>\n",
       "      <td>...</td>\n",
       "      <td>...</td>\n",
       "      <td>...</td>\n",
       "      <td>...</td>\n",
       "      <td>...</td>\n",
       "      <td>...</td>\n",
       "    </tr>\n",
       "    <tr>\n",
       "      <th>12726170</th>\n",
       "      <td>1424778553235</td>\n",
       "      <td>92263701744000</td>\n",
       "      <td>1.532270</td>\n",
       "      <td>0.000000</td>\n",
       "      <td>9.806528</td>\n",
       "      <td>i</td>\n",
       "      <td>samsungold</td>\n",
       "      <td>samsungold_2</td>\n",
       "      <td>bike</td>\n",
       "      <td>1424778556726097080</td>\n",
       "      <td>-0.017624</td>\n",
       "      <td>0.005386</td>\n",
       "      <td>0.008514</td>\n",
       "      <td>i</td>\n",
       "      <td>nexus4</td>\n",
       "      <td>nexus4_1</td>\n",
       "      <td>bike</td>\n",
       "    </tr>\n",
       "    <tr>\n",
       "      <th>12726171</th>\n",
       "      <td>1424778553256</td>\n",
       "      <td>92263722252000</td>\n",
       "      <td>1.379043</td>\n",
       "      <td>0.000000</td>\n",
       "      <td>9.959755</td>\n",
       "      <td>i</td>\n",
       "      <td>samsungold</td>\n",
       "      <td>samsungold_2</td>\n",
       "      <td>bike</td>\n",
       "      <td>2902562935000</td>\n",
       "      <td>-0.032693</td>\n",
       "      <td>-0.012687</td>\n",
       "      <td>-0.008539</td>\n",
       "      <td>i</td>\n",
       "      <td>s3mini</td>\n",
       "      <td>s3mini_1</td>\n",
       "      <td>bike</td>\n",
       "    </tr>\n",
       "    <tr>\n",
       "      <th>12726172</th>\n",
       "      <td>1424778553286</td>\n",
       "      <td>92263752250000</td>\n",
       "      <td>1.532270</td>\n",
       "      <td>0.153227</td>\n",
       "      <td>9.959755</td>\n",
       "      <td>i</td>\n",
       "      <td>samsungold</td>\n",
       "      <td>samsungold_2</td>\n",
       "      <td>bike</td>\n",
       "      <td>2902592809000</td>\n",
       "      <td>-0.031717</td>\n",
       "      <td>-0.006831</td>\n",
       "      <td>-0.006099</td>\n",
       "      <td>i</td>\n",
       "      <td>s3mini</td>\n",
       "      <td>s3mini_1</td>\n",
       "      <td>bike</td>\n",
       "    </tr>\n",
       "    <tr>\n",
       "      <th>12726173</th>\n",
       "      <td>1424778553306</td>\n",
       "      <td>92263772270000</td>\n",
       "      <td>1.379043</td>\n",
       "      <td>0.000000</td>\n",
       "      <td>9.959755</td>\n",
       "      <td>i</td>\n",
       "      <td>samsungold</td>\n",
       "      <td>samsungold_2</td>\n",
       "      <td>bike</td>\n",
       "      <td>2902612796000</td>\n",
       "      <td>-0.030741</td>\n",
       "      <td>-0.002928</td>\n",
       "      <td>-0.003904</td>\n",
       "      <td>i</td>\n",
       "      <td>s3mini</td>\n",
       "      <td>s3mini_1</td>\n",
       "      <td>bike</td>\n",
       "    </tr>\n",
       "    <tr>\n",
       "      <th>12726174</th>\n",
       "      <td>1424778553346</td>\n",
       "      <td>92263812248000</td>\n",
       "      <td>1.379043</td>\n",
       "      <td>0.153227</td>\n",
       "      <td>9.806528</td>\n",
       "      <td>i</td>\n",
       "      <td>samsungold</td>\n",
       "      <td>samsungold_2</td>\n",
       "      <td>bike</td>\n",
       "      <td>1424778556836936924</td>\n",
       "      <td>-0.011215</td>\n",
       "      <td>0.006454</td>\n",
       "      <td>0.007446</td>\n",
       "      <td>i</td>\n",
       "      <td>nexus4</td>\n",
       "      <td>nexus4_1</td>\n",
       "      <td>bike</td>\n",
       "    </tr>\n",
       "  </tbody>\n",
       "</table>\n",
       "<p>12726175 rows × 17 columns</p>\n",
       "</div>"
      ],
      "text/plain": [
       "           Arrival_Time    Creation_Time_acc     acc_x     acc_y     acc_z  \\\n",
       "0         1424696633908  1424696631913248572 -5.958191  0.688065  8.135345   \n",
       "1         1424696633909  1424696631918283972 -5.952240  0.670212  8.136536   \n",
       "2         1424696633909  1424696631918283972 -5.952240  0.670212  8.136536   \n",
       "3         1424696633918  1424696631923288855 -5.995087  0.653549  8.204376   \n",
       "4         1424696633918  1424696631923288855 -5.995087  0.653549  8.204376   \n",
       "...                 ...                  ...       ...       ...       ...   \n",
       "12726170  1424778553235       92263701744000  1.532270  0.000000  9.806528   \n",
       "12726171  1424778553256       92263722252000  1.379043  0.000000  9.959755   \n",
       "12726172  1424778553286       92263752250000  1.532270  0.153227  9.959755   \n",
       "12726173  1424778553306       92263772270000  1.379043  0.000000  9.959755   \n",
       "12726174  1424778553346       92263812248000  1.379043  0.153227  9.806528   \n",
       "\n",
       "         User_acc   Model_acc    Device_acc gt_acc   Creation_Time_gyro  \\\n",
       "0               a      nexus4      nexus4_1  stand      274248791573000   \n",
       "1               a      nexus4      nexus4_1  stand  1424696631914042029   \n",
       "2               a      nexus4      nexus4_1  stand  1424696631919046912   \n",
       "3               a      nexus4      nexus4_1  stand  1424696631924051794   \n",
       "4               a      nexus4      nexus4_1  stand      274248801573000   \n",
       "...           ...         ...           ...    ...                  ...   \n",
       "12726170        i  samsungold  samsungold_2   bike  1424778556726097080   \n",
       "12726171        i  samsungold  samsungold_2   bike        2902562935000   \n",
       "12726172        i  samsungold  samsungold_2   bike        2902592809000   \n",
       "12726173        i  samsungold  samsungold_2   bike        2902612796000   \n",
       "12726174        i  samsungold  samsungold_2   bike  1424778556836936924   \n",
       "\n",
       "            gyro_x    gyro_y    gyro_z User_gyro Model_gyro Device_gyro  \\\n",
       "0         0.024129 -0.020769  0.008552         a         s3        s3_2   \n",
       "1         0.013748 -0.000626 -0.023376         a     nexus4    nexus4_1   \n",
       "2         0.014816 -0.001694 -0.022308         a     nexus4    nexus4_1   \n",
       "3         0.015884 -0.001694 -0.021240         a     nexus4    nexus4_1   \n",
       "4         0.023518 -0.017410  0.007636         a         s3        s3_2   \n",
       "...            ...       ...       ...       ...        ...         ...   \n",
       "12726170 -0.017624  0.005386  0.008514         i     nexus4    nexus4_1   \n",
       "12726171 -0.032693 -0.012687 -0.008539         i     s3mini    s3mini_1   \n",
       "12726172 -0.031717 -0.006831 -0.006099         i     s3mini    s3mini_1   \n",
       "12726173 -0.030741 -0.002928 -0.003904         i     s3mini    s3mini_1   \n",
       "12726174 -0.011215  0.006454  0.007446         i     nexus4    nexus4_1   \n",
       "\n",
       "         gt_gyro  \n",
       "0          stand  \n",
       "1          stand  \n",
       "2          stand  \n",
       "3          stand  \n",
       "4          stand  \n",
       "...          ...  \n",
       "12726170    bike  \n",
       "12726171    bike  \n",
       "12726172    bike  \n",
       "12726173    bike  \n",
       "12726174    bike  \n",
       "\n",
       "[12726175 rows x 17 columns]"
      ]
     },
     "execution_count": 8,
     "metadata": {},
     "output_type": "execute_result"
    }
   ],
   "source": [
    "df"
   ]
  },
  {
   "cell_type": "code",
   "execution_count": 9,
   "metadata": {},
   "outputs": [],
   "source": [
    "df.to_csv('data/phones.csv')"
   ]
  },
  {
   "cell_type": "code",
   "execution_count": null,
   "metadata": {},
   "outputs": [
    {
     "name": "stderr",
     "output_type": "stream",
     "text": [
      "/home/ale/.local/lib/python3.8/site-packages/IPython/core/interactiveshell.py:3457: DtypeWarning: Columns (9,17) have mixed types.Specify dtype option on import or set low_memory=False.\n",
      "  exec(code_obj, self.user_global_ns, self.user_ns)\n"
     ]
    }
   ],
   "source": [
    "phone = pd.read_csv('data/phones.csv')"
   ]
  },
  {
   "cell_type": "code",
   "execution_count": 4,
   "metadata": {},
   "outputs": [],
   "source": [
    "phone = phone.loc[phone['User_acc'] == 'a']"
   ]
  },
  {
   "cell_type": "code",
   "execution_count": 5,
   "metadata": {},
   "outputs": [
    {
     "name": "stderr",
     "output_type": "stream",
     "text": [
      "/tmp/ipykernel_186345/172377305.py:1: FutureWarning: In a future version of pandas all arguments of DataFrame.drop except for the argument 'labels' will be keyword-only\n",
      "  phone = phone.drop('Arrival_Time', 1)\n",
      "/tmp/ipykernel_186345/172377305.py:2: FutureWarning: In a future version of pandas all arguments of DataFrame.drop except for the argument 'labels' will be keyword-only\n",
      "  phone = phone.drop('Creation_Time_acc', 1)\n",
      "/tmp/ipykernel_186345/172377305.py:3: FutureWarning: In a future version of pandas all arguments of DataFrame.drop except for the argument 'labels' will be keyword-only\n",
      "  phone = phone.drop('User_acc', 1)\n",
      "/tmp/ipykernel_186345/172377305.py:4: FutureWarning: In a future version of pandas all arguments of DataFrame.drop except for the argument 'labels' will be keyword-only\n",
      "  phone = phone.drop('Model_acc', 1)\n",
      "/tmp/ipykernel_186345/172377305.py:5: FutureWarning: In a future version of pandas all arguments of DataFrame.drop except for the argument 'labels' will be keyword-only\n",
      "  phone = phone.drop('Device_acc', 1)\n",
      "/tmp/ipykernel_186345/172377305.py:6: FutureWarning: In a future version of pandas all arguments of DataFrame.drop except for the argument 'labels' will be keyword-only\n",
      "  phone = phone.drop('gt_acc', 1)\n",
      "/tmp/ipykernel_186345/172377305.py:7: FutureWarning: In a future version of pandas all arguments of DataFrame.drop except for the argument 'labels' will be keyword-only\n",
      "  phone = phone.drop('Creation_Time_gyro', 1)\n",
      "/tmp/ipykernel_186345/172377305.py:8: FutureWarning: In a future version of pandas all arguments of DataFrame.drop except for the argument 'labels' will be keyword-only\n",
      "  phone = phone.drop('User_gyro', 1)\n",
      "/tmp/ipykernel_186345/172377305.py:9: FutureWarning: In a future version of pandas all arguments of DataFrame.drop except for the argument 'labels' will be keyword-only\n",
      "  phone = phone.drop('Model_gyro', 1)\n",
      "/tmp/ipykernel_186345/172377305.py:10: FutureWarning: In a future version of pandas all arguments of DataFrame.drop except for the argument 'labels' will be keyword-only\n",
      "  phone = phone.drop('Device_gyro', 1)\n"
     ]
    }
   ],
   "source": [
    "phone = phone.drop('Arrival_Time', 1)\n",
    "phone = phone.drop('Creation_Time_acc', 1)\n",
    "phone = phone.drop('User_acc', 1)\n",
    "phone = phone.drop('Model_acc', 1)\n",
    "phone = phone.drop('Device_acc', 1)\n",
    "phone = phone.drop('gt_acc', 1)\n",
    "phone = phone.drop('Creation_Time_gyro', 1)\n",
    "phone = phone.drop('User_gyro', 1)\n",
    "phone = phone.drop('Model_gyro', 1)\n",
    "phone = phone.drop('Device_gyro', 1)"
   ]
  },
  {
   "cell_type": "code",
   "execution_count": 6,
   "metadata": {},
   "outputs": [
    {
     "name": "stdout",
     "output_type": "stream",
     "text": [
      "<class 'pandas.core.frame.DataFrame'>\n",
      "Int64Index: 1395809 entries, 0 to 1395808\n",
      "Data columns (total 8 columns):\n",
      " #   Column      Non-Null Count    Dtype  \n",
      "---  ------      --------------    -----  \n",
      " 0   Unnamed: 0  1395809 non-null  int64  \n",
      " 1   acc_x       1395809 non-null  float64\n",
      " 2   acc_y       1395809 non-null  float64\n",
      " 3   acc_z       1395809 non-null  float64\n",
      " 4   gyro_x      1395809 non-null  float64\n",
      " 5   gyro_y      1395809 non-null  float64\n",
      " 6   gyro_z      1395809 non-null  float64\n",
      " 7   label       1255717 non-null  object \n",
      "dtypes: float64(6), int64(1), object(1)\n",
      "memory usage: 95.8+ MB\n"
     ]
    }
   ],
   "source": [
    "phone.rename(columns={'gt_gyro': 'label'}, inplace=True)\n",
    "phone.info()"
   ]
  },
  {
   "cell_type": "code",
   "execution_count": 7,
   "metadata": {},
   "outputs": [
    {
     "name": "stdout",
     "output_type": "stream",
     "text": [
      "<class 'pandas.core.frame.DataFrame'>\n",
      "Int64Index: 1255717 entries, 0 to 1395808\n",
      "Data columns (total 8 columns):\n",
      " #   Column      Non-Null Count    Dtype  \n",
      "---  ------      --------------    -----  \n",
      " 0   Unnamed: 0  1255717 non-null  int64  \n",
      " 1   acc_x       1255717 non-null  float64\n",
      " 2   acc_y       1255717 non-null  float64\n",
      " 3   acc_z       1255717 non-null  float64\n",
      " 4   gyro_x      1255717 non-null  float64\n",
      " 5   gyro_y      1255717 non-null  float64\n",
      " 6   gyro_z      1255717 non-null  float64\n",
      " 7   label       1255717 non-null  object \n",
      "dtypes: float64(6), int64(1), object(1)\n",
      "memory usage: 86.2+ MB\n"
     ]
    }
   ],
   "source": [
    "phone = phone.dropna()\n",
    "phone.info()"
   ]
  },
  {
   "cell_type": "code",
   "execution_count": 8,
   "metadata": {},
   "outputs": [],
   "source": [
    "phone.to_csv('data/phones_user_a.csv')"
   ]
  },
  {
   "cell_type": "code",
   "execution_count": 1,
   "metadata": {},
   "outputs": [
    {
     "ename": "NameError",
     "evalue": "name 'phone' is not defined",
     "output_type": "error",
     "traceback": [
      "\u001b[0;31m---------------------------------------------------------------------------\u001b[0m",
      "\u001b[0;31mNameError\u001b[0m                                 Traceback (most recent call last)",
      "\u001b[0;32m/tmp/ipykernel_204292/3423352454.py\u001b[0m in \u001b[0;36m<module>\u001b[0;34m\u001b[0m\n\u001b[0;32m----> 1\u001b[0;31m \u001b[0mX\u001b[0m \u001b[0;34m=\u001b[0m \u001b[0mphone\u001b[0m\u001b[0;34m[\u001b[0m\u001b[0;34m[\u001b[0m\u001b[0;34m'acc_x'\u001b[0m\u001b[0;34m,\u001b[0m \u001b[0;34m'acc_y'\u001b[0m\u001b[0;34m,\u001b[0m \u001b[0;34m'acc_z'\u001b[0m\u001b[0;34m,\u001b[0m \u001b[0;34m'gyro_x'\u001b[0m\u001b[0;34m,\u001b[0m \u001b[0;34m'gyro_y'\u001b[0m\u001b[0;34m,\u001b[0m \u001b[0;34m'gyro_z'\u001b[0m\u001b[0;34m]\u001b[0m\u001b[0;34m]\u001b[0m\u001b[0;34m\u001b[0m\u001b[0;34m\u001b[0m\u001b[0m\n\u001b[0m",
      "\u001b[0;31mNameError\u001b[0m: name 'phone' is not defined"
     ]
    }
   ],
   "source": [
    "X = phone[['acc_x', 'acc_y', 'acc_z', 'gyro_x', 'gyro_y', 'gyro_z']]"
   ]
  },
  {
   "cell_type": "code",
   "execution_count": 10,
   "metadata": {},
   "outputs": [],
   "source": [
    "y = phone[['label']]"
   ]
  },
  {
   "cell_type": "code",
   "execution_count": 11,
   "metadata": {},
   "outputs": [],
   "source": [
    "#from sklearn.preprocessing import LabelEncoder\n",
    "\n",
    "#def encode_df(dataframe):\n",
    "#    le = LabelEncoder()\n",
    "#    for column in dataframe.columns:\n",
    "#        dataframe[column] = le.fit_transform(dataframe[column])\n",
    "#    return dataframe\n",
    "\n",
    "#encode the dataframe\n",
    "#encode_df(y)\n",
    "#y"
   ]
  },
  {
   "cell_type": "code",
   "execution_count": 12,
   "metadata": {},
   "outputs": [],
   "source": [
    "from sklearn.model_selection import train_test_split\n",
    "\n",
    "X_train, X_test, y_train, y_test = train_test_split(X, y, test_size=0.2, stratify=y, random_state=42)"
   ]
  },
  {
   "cell_type": "code",
   "execution_count": 32,
   "metadata": {},
   "outputs": [
    {
     "data": {
      "text/plain": [
       "(1004573, 6)"
      ]
     },
     "execution_count": 32,
     "metadata": {},
     "output_type": "execute_result"
    }
   ],
   "source": [
    "X_train.to_csv('data/X_train.csv')\n",
    "X_train.shape"
   ]
  },
  {
   "cell_type": "code",
   "execution_count": 33,
   "metadata": {},
   "outputs": [
    {
     "data": {
      "text/plain": [
       "(251144, 6)"
      ]
     },
     "execution_count": 33,
     "metadata": {},
     "output_type": "execute_result"
    }
   ],
   "source": [
    "X_test.to_csv('data/X_test.csv')\n",
    "np.save('data/X_test.npy', X_test)\n",
    "X_test.shape"
   ]
  },
  {
   "cell_type": "code",
   "execution_count": 31,
   "metadata": {},
   "outputs": [
    {
     "name": "stderr",
     "output_type": "stream",
     "text": [
      "/tmp/ipykernel_204972/2431242979.py:2: FutureWarning: In a future version of pandas all arguments of DataFrame.drop except for the argument 'labels' will be keyword-only\n",
      "  y_train = y_train.drop('Unnamed: 0', 1)\n"
     ]
    },
    {
     "data": {
      "text/html": [
       "<div>\n",
       "<style scoped>\n",
       "    .dataframe tbody tr th:only-of-type {\n",
       "        vertical-align: middle;\n",
       "    }\n",
       "\n",
       "    .dataframe tbody tr th {\n",
       "        vertical-align: top;\n",
       "    }\n",
       "\n",
       "    .dataframe thead th {\n",
       "        text-align: right;\n",
       "    }\n",
       "</style>\n",
       "<table border=\"1\" class=\"dataframe\">\n",
       "  <thead>\n",
       "    <tr style=\"text-align: right;\">\n",
       "      <th></th>\n",
       "      <th>label</th>\n",
       "    </tr>\n",
       "  </thead>\n",
       "  <tbody>\n",
       "    <tr>\n",
       "      <th>0</th>\n",
       "      <td>stairsup</td>\n",
       "    </tr>\n",
       "    <tr>\n",
       "      <th>1</th>\n",
       "      <td>stand</td>\n",
       "    </tr>\n",
       "    <tr>\n",
       "      <th>2</th>\n",
       "      <td>stairsdown</td>\n",
       "    </tr>\n",
       "    <tr>\n",
       "      <th>3</th>\n",
       "      <td>walk</td>\n",
       "    </tr>\n",
       "    <tr>\n",
       "      <th>4</th>\n",
       "      <td>stairsdown</td>\n",
       "    </tr>\n",
       "    <tr>\n",
       "      <th>...</th>\n",
       "      <td>...</td>\n",
       "    </tr>\n",
       "    <tr>\n",
       "      <th>1004568</th>\n",
       "      <td>stand</td>\n",
       "    </tr>\n",
       "    <tr>\n",
       "      <th>1004569</th>\n",
       "      <td>bike</td>\n",
       "    </tr>\n",
       "    <tr>\n",
       "      <th>1004570</th>\n",
       "      <td>walk</td>\n",
       "    </tr>\n",
       "    <tr>\n",
       "      <th>1004571</th>\n",
       "      <td>bike</td>\n",
       "    </tr>\n",
       "    <tr>\n",
       "      <th>1004572</th>\n",
       "      <td>stand</td>\n",
       "    </tr>\n",
       "  </tbody>\n",
       "</table>\n",
       "<p>1004573 rows × 1 columns</p>\n",
       "</div>"
      ],
      "text/plain": [
       "              label\n",
       "0          stairsup\n",
       "1             stand\n",
       "2        stairsdown\n",
       "3              walk\n",
       "4        stairsdown\n",
       "...             ...\n",
       "1004568       stand\n",
       "1004569        bike\n",
       "1004570        walk\n",
       "1004571        bike\n",
       "1004572       stand\n",
       "\n",
       "[1004573 rows x 1 columns]"
      ]
     },
     "execution_count": 31,
     "metadata": {},
     "output_type": "execute_result"
    }
   ],
   "source": [
    "y_train = pd.read_csv('data/y_train.csv')\n",
    "y_train = y_train.drop('Unnamed: 0', 1)\n",
    "y_train"
   ]
  },
  {
   "cell_type": "code",
   "execution_count": 32,
   "metadata": {},
   "outputs": [
    {
     "data": {
      "text/plain": [
       "1004400"
      ]
     },
     "execution_count": 32,
     "metadata": {},
     "output_type": "execute_result"
    }
   ],
   "source": [
    "n_rows = y_train.shape[0]\n",
    "n_cols = y_train.shape[1]\n",
    "seg_shape = int(n_rows/400)\n",
    "seg_shape = seg_shape * 400\n",
    "seg_shape"
   ]
  },
  {
   "cell_type": "code",
   "execution_count": 33,
   "metadata": {},
   "outputs": [
    {
     "data": {
      "text/html": [
       "<div>\n",
       "<style scoped>\n",
       "    .dataframe tbody tr th:only-of-type {\n",
       "        vertical-align: middle;\n",
       "    }\n",
       "\n",
       "    .dataframe tbody tr th {\n",
       "        vertical-align: top;\n",
       "    }\n",
       "\n",
       "    .dataframe thead th {\n",
       "        text-align: right;\n",
       "    }\n",
       "</style>\n",
       "<table border=\"1\" class=\"dataframe\">\n",
       "  <thead>\n",
       "    <tr style=\"text-align: right;\">\n",
       "      <th></th>\n",
       "      <th>label</th>\n",
       "    </tr>\n",
       "  </thead>\n",
       "  <tbody>\n",
       "    <tr>\n",
       "      <th>0</th>\n",
       "      <td>stairsup</td>\n",
       "    </tr>\n",
       "    <tr>\n",
       "      <th>1</th>\n",
       "      <td>stand</td>\n",
       "    </tr>\n",
       "    <tr>\n",
       "      <th>2</th>\n",
       "      <td>stairsdown</td>\n",
       "    </tr>\n",
       "    <tr>\n",
       "      <th>3</th>\n",
       "      <td>walk</td>\n",
       "    </tr>\n",
       "    <tr>\n",
       "      <th>4</th>\n",
       "      <td>stairsdown</td>\n",
       "    </tr>\n",
       "    <tr>\n",
       "      <th>...</th>\n",
       "      <td>...</td>\n",
       "    </tr>\n",
       "    <tr>\n",
       "      <th>1004395</th>\n",
       "      <td>walk</td>\n",
       "    </tr>\n",
       "    <tr>\n",
       "      <th>1004396</th>\n",
       "      <td>walk</td>\n",
       "    </tr>\n",
       "    <tr>\n",
       "      <th>1004397</th>\n",
       "      <td>walk</td>\n",
       "    </tr>\n",
       "    <tr>\n",
       "      <th>1004398</th>\n",
       "      <td>bike</td>\n",
       "    </tr>\n",
       "    <tr>\n",
       "      <th>1004399</th>\n",
       "      <td>walk</td>\n",
       "    </tr>\n",
       "  </tbody>\n",
       "</table>\n",
       "<p>1004400 rows × 1 columns</p>\n",
       "</div>"
      ],
      "text/plain": [
       "              label\n",
       "0          stairsup\n",
       "1             stand\n",
       "2        stairsdown\n",
       "3              walk\n",
       "4        stairsdown\n",
       "...             ...\n",
       "1004395        walk\n",
       "1004396        walk\n",
       "1004397        walk\n",
       "1004398        bike\n",
       "1004399        walk\n",
       "\n",
       "[1004400 rows x 1 columns]"
      ]
     },
     "execution_count": 33,
     "metadata": {},
     "output_type": "execute_result"
    }
   ],
   "source": [
    "y_train = y_train.head(seg_shape)\n",
    "y_train"
   ]
  },
  {
   "cell_type": "code",
   "execution_count": 40,
   "metadata": {},
   "outputs": [
    {
     "data": {
      "text/plain": [
       "(1004400, 6)"
      ]
     },
     "execution_count": 40,
     "metadata": {},
     "output_type": "execute_result"
    }
   ],
   "source": [
    "# one hot encoding by pandas\n",
    "y_train = pd.get_dummies(data=y_train, columns=['label'])\n",
    "y_train.shape"
   ]
  },
  {
   "cell_type": "code",
   "execution_count": 41,
   "metadata": {},
   "outputs": [],
   "source": [
    "y_train.to_csv('data/y_train.csv')"
   ]
  },
  {
   "cell_type": "code",
   "execution_count": 62,
   "metadata": {},
   "outputs": [
    {
     "data": {
      "text/plain": [
       "(1004400, 6)"
      ]
     },
     "execution_count": 62,
     "metadata": {},
     "output_type": "execute_result"
    }
   ],
   "source": [
    "labels = y_train.to_numpy()\n",
    "labels.shape"
   ]
  },
  {
   "cell_type": "code",
   "execution_count": 63,
   "metadata": {},
   "outputs": [
    {
     "data": {
      "text/plain": [
       "(1004400, 6)"
      ]
     },
     "execution_count": 63,
     "metadata": {},
     "output_type": "execute_result"
    }
   ],
   "source": [
    "n_instances = labels.shape[0]\n",
    "n_attributes = labels.shape[1]\n",
    "labels = labels.reshape(n_instances, n_attributes)\n",
    "np.save('data/y_train.npy', labels) \n",
    "labels.shape"
   ]
  },
  {
   "cell_type": "code",
   "execution_count": 51,
   "metadata": {},
   "outputs": [],
   "source": [
    "np.save('data/y_train.npy', labels)"
   ]
  },
  {
   "cell_type": "code",
   "execution_count": 35,
   "metadata": {},
   "outputs": [
    {
     "data": {
      "text/plain": [
       "(251144, 1)"
      ]
     },
     "execution_count": 35,
     "metadata": {},
     "output_type": "execute_result"
    }
   ],
   "source": [
    "y_test.to_csv('data/y_test.cvs')\n",
    "np.save('data/y_test.npy', y_test)\n",
    "y_test.shape"
   ]
  },
  {
   "cell_type": "code",
   "execution_count": 52,
   "metadata": {},
   "outputs": [
    {
     "name": "stderr",
     "output_type": "stream",
     "text": [
      "/tmp/ipykernel_204972/561670757.py:2: FutureWarning: In a future version of pandas all arguments of DataFrame.drop except for the argument 'labels' will be keyword-only\n",
      "  X_train = X_train.drop('Unnamed: 0', 1)\n"
     ]
    },
    {
     "data": {
      "text/html": [
       "<div>\n",
       "<style scoped>\n",
       "    .dataframe tbody tr th:only-of-type {\n",
       "        vertical-align: middle;\n",
       "    }\n",
       "\n",
       "    .dataframe tbody tr th {\n",
       "        vertical-align: top;\n",
       "    }\n",
       "\n",
       "    .dataframe thead th {\n",
       "        text-align: right;\n",
       "    }\n",
       "</style>\n",
       "<table border=\"1\" class=\"dataframe\">\n",
       "  <thead>\n",
       "    <tr style=\"text-align: right;\">\n",
       "      <th></th>\n",
       "      <th>acc_x</th>\n",
       "      <th>acc_y</th>\n",
       "      <th>acc_z</th>\n",
       "      <th>gyro_x</th>\n",
       "      <th>gyro_y</th>\n",
       "      <th>gyro_z</th>\n",
       "    </tr>\n",
       "  </thead>\n",
       "  <tbody>\n",
       "    <tr>\n",
       "      <th>0</th>\n",
       "      <td>-6.147430</td>\n",
       "      <td>1.798508</td>\n",
       "      <td>7.260559</td>\n",
       "      <td>0.852661</td>\n",
       "      <td>-0.562042</td>\n",
       "      <td>-0.006714</td>\n",
       "    </tr>\n",
       "    <tr>\n",
       "      <th>1</th>\n",
       "      <td>-5.669399</td>\n",
       "      <td>-0.153227</td>\n",
       "      <td>7.814577</td>\n",
       "      <td>-0.040317</td>\n",
       "      <td>0.056505</td>\n",
       "      <td>0.080634</td>\n",
       "    </tr>\n",
       "    <tr>\n",
       "      <th>2</th>\n",
       "      <td>-4.187195</td>\n",
       "      <td>-1.955337</td>\n",
       "      <td>7.799713</td>\n",
       "      <td>0.203247</td>\n",
       "      <td>0.073486</td>\n",
       "      <td>0.088348</td>\n",
       "    </tr>\n",
       "    <tr>\n",
       "      <th>3</th>\n",
       "      <td>-5.990326</td>\n",
       "      <td>2.349564</td>\n",
       "      <td>10.299103</td>\n",
       "      <td>-0.637360</td>\n",
       "      <td>-0.178589</td>\n",
       "      <td>0.644836</td>\n",
       "    </tr>\n",
       "    <tr>\n",
       "      <th>4</th>\n",
       "      <td>-7.967903</td>\n",
       "      <td>2.135628</td>\n",
       "      <td>10.735600</td>\n",
       "      <td>0.381583</td>\n",
       "      <td>0.223485</td>\n",
       "      <td>-0.701684</td>\n",
       "    </tr>\n",
       "    <tr>\n",
       "      <th>...</th>\n",
       "      <td>...</td>\n",
       "      <td>...</td>\n",
       "      <td>...</td>\n",
       "      <td>...</td>\n",
       "      <td>...</td>\n",
       "      <td>...</td>\n",
       "    </tr>\n",
       "    <tr>\n",
       "      <th>1004568</th>\n",
       "      <td>-6.134170</td>\n",
       "      <td>0.612335</td>\n",
       "      <td>7.551956</td>\n",
       "      <td>0.008247</td>\n",
       "      <td>-0.014966</td>\n",
       "      <td>0.014050</td>\n",
       "    </tr>\n",
       "    <tr>\n",
       "      <th>1004569</th>\n",
       "      <td>-4.242526</td>\n",
       "      <td>0.871489</td>\n",
       "      <td>8.839393</td>\n",
       "      <td>0.130020</td>\n",
       "      <td>-0.174484</td>\n",
       "      <td>-0.249451</td>\n",
       "    </tr>\n",
       "    <tr>\n",
       "      <th>1004570</th>\n",
       "      <td>-8.231445</td>\n",
       "      <td>-2.627792</td>\n",
       "      <td>8.759003</td>\n",
       "      <td>-0.959975</td>\n",
       "      <td>-1.172861</td>\n",
       "      <td>0.011912</td>\n",
       "    </tr>\n",
       "    <tr>\n",
       "      <th>1004571</th>\n",
       "      <td>-2.298405</td>\n",
       "      <td>1.225816</td>\n",
       "      <td>9.346847</td>\n",
       "      <td>-0.209832</td>\n",
       "      <td>0.058643</td>\n",
       "      <td>-0.080940</td>\n",
       "    </tr>\n",
       "    <tr>\n",
       "      <th>1004572</th>\n",
       "      <td>-5.808060</td>\n",
       "      <td>0.564728</td>\n",
       "      <td>7.868545</td>\n",
       "      <td>-0.003971</td>\n",
       "      <td>0.019548</td>\n",
       "      <td>-0.000916</td>\n",
       "    </tr>\n",
       "  </tbody>\n",
       "</table>\n",
       "<p>1004573 rows × 6 columns</p>\n",
       "</div>"
      ],
      "text/plain": [
       "            acc_x     acc_y      acc_z    gyro_x    gyro_y    gyro_z\n",
       "0       -6.147430  1.798508   7.260559  0.852661 -0.562042 -0.006714\n",
       "1       -5.669399 -0.153227   7.814577 -0.040317  0.056505  0.080634\n",
       "2       -4.187195 -1.955337   7.799713  0.203247  0.073486  0.088348\n",
       "3       -5.990326  2.349564  10.299103 -0.637360 -0.178589  0.644836\n",
       "4       -7.967903  2.135628  10.735600  0.381583  0.223485 -0.701684\n",
       "...           ...       ...        ...       ...       ...       ...\n",
       "1004568 -6.134170  0.612335   7.551956  0.008247 -0.014966  0.014050\n",
       "1004569 -4.242526  0.871489   8.839393  0.130020 -0.174484 -0.249451\n",
       "1004570 -8.231445 -2.627792   8.759003 -0.959975 -1.172861  0.011912\n",
       "1004571 -2.298405  1.225816   9.346847 -0.209832  0.058643 -0.080940\n",
       "1004572 -5.808060  0.564728   7.868545 -0.003971  0.019548 -0.000916\n",
       "\n",
       "[1004573 rows x 6 columns]"
      ]
     },
     "execution_count": 52,
     "metadata": {},
     "output_type": "execute_result"
    }
   ],
   "source": [
    "X_train = pd.read_csv('data/X_train.csv')\n",
    "X_train = X_train.drop('Unnamed: 0', 1)\n",
    "X_train"
   ]
  },
  {
   "cell_type": "code",
   "execution_count": 53,
   "metadata": {
    "id": "J74MP16t4gYu"
   },
   "outputs": [
    {
     "data": {
      "text/plain": [
       "1004400"
      ]
     },
     "execution_count": 53,
     "metadata": {},
     "output_type": "execute_result"
    }
   ],
   "source": [
    "n_rows = X_train.shape[0]\n",
    "n_cols = X_train.shape[1]\n",
    "seg_shape = int(n_rows/400)\n",
    "seg_shape = seg_shape * 400\n",
    "seg_shape"
   ]
  },
  {
   "cell_type": "code",
   "execution_count": 54,
   "metadata": {},
   "outputs": [
    {
     "data": {
      "text/html": [
       "<div>\n",
       "<style scoped>\n",
       "    .dataframe tbody tr th:only-of-type {\n",
       "        vertical-align: middle;\n",
       "    }\n",
       "\n",
       "    .dataframe tbody tr th {\n",
       "        vertical-align: top;\n",
       "    }\n",
       "\n",
       "    .dataframe thead th {\n",
       "        text-align: right;\n",
       "    }\n",
       "</style>\n",
       "<table border=\"1\" class=\"dataframe\">\n",
       "  <thead>\n",
       "    <tr style=\"text-align: right;\">\n",
       "      <th></th>\n",
       "      <th>acc_x</th>\n",
       "      <th>acc_y</th>\n",
       "      <th>acc_z</th>\n",
       "      <th>gyro_x</th>\n",
       "      <th>gyro_y</th>\n",
       "      <th>gyro_z</th>\n",
       "    </tr>\n",
       "  </thead>\n",
       "  <tbody>\n",
       "    <tr>\n",
       "      <th>0</th>\n",
       "      <td>-6.147430</td>\n",
       "      <td>1.798508</td>\n",
       "      <td>7.260559</td>\n",
       "      <td>0.852661</td>\n",
       "      <td>-0.562042</td>\n",
       "      <td>-0.006714</td>\n",
       "    </tr>\n",
       "    <tr>\n",
       "      <th>1</th>\n",
       "      <td>-5.669399</td>\n",
       "      <td>-0.153227</td>\n",
       "      <td>7.814577</td>\n",
       "      <td>-0.040317</td>\n",
       "      <td>0.056505</td>\n",
       "      <td>0.080634</td>\n",
       "    </tr>\n",
       "    <tr>\n",
       "      <th>2</th>\n",
       "      <td>-4.187195</td>\n",
       "      <td>-1.955337</td>\n",
       "      <td>7.799713</td>\n",
       "      <td>0.203247</td>\n",
       "      <td>0.073486</td>\n",
       "      <td>0.088348</td>\n",
       "    </tr>\n",
       "    <tr>\n",
       "      <th>3</th>\n",
       "      <td>-5.990326</td>\n",
       "      <td>2.349564</td>\n",
       "      <td>10.299103</td>\n",
       "      <td>-0.637360</td>\n",
       "      <td>-0.178589</td>\n",
       "      <td>0.644836</td>\n",
       "    </tr>\n",
       "    <tr>\n",
       "      <th>4</th>\n",
       "      <td>-7.967903</td>\n",
       "      <td>2.135628</td>\n",
       "      <td>10.735600</td>\n",
       "      <td>0.381583</td>\n",
       "      <td>0.223485</td>\n",
       "      <td>-0.701684</td>\n",
       "    </tr>\n",
       "    <tr>\n",
       "      <th>...</th>\n",
       "      <td>...</td>\n",
       "      <td>...</td>\n",
       "      <td>...</td>\n",
       "      <td>...</td>\n",
       "      <td>...</td>\n",
       "      <td>...</td>\n",
       "    </tr>\n",
       "    <tr>\n",
       "      <th>1004395</th>\n",
       "      <td>3.677448</td>\n",
       "      <td>-0.919362</td>\n",
       "      <td>6.129080</td>\n",
       "      <td>-0.215635</td>\n",
       "      <td>0.771523</td>\n",
       "      <td>0.854600</td>\n",
       "    </tr>\n",
       "    <tr>\n",
       "      <th>1004396</th>\n",
       "      <td>-4.640488</td>\n",
       "      <td>0.618286</td>\n",
       "      <td>14.400284</td>\n",
       "      <td>0.091568</td>\n",
       "      <td>0.958786</td>\n",
       "      <td>-0.319946</td>\n",
       "    </tr>\n",
       "    <tr>\n",
       "      <th>1004397</th>\n",
       "      <td>-5.647385</td>\n",
       "      <td>2.053650</td>\n",
       "      <td>6.504593</td>\n",
       "      <td>-0.378736</td>\n",
       "      <td>-0.291688</td>\n",
       "      <td>0.565356</td>\n",
       "    </tr>\n",
       "    <tr>\n",
       "      <th>1004398</th>\n",
       "      <td>6.760028</td>\n",
       "      <td>0.307655</td>\n",
       "      <td>8.748413</td>\n",
       "      <td>0.159454</td>\n",
       "      <td>-0.084595</td>\n",
       "      <td>-0.027008</td>\n",
       "    </tr>\n",
       "    <tr>\n",
       "      <th>1004399</th>\n",
       "      <td>-2.667160</td>\n",
       "      <td>0.155304</td>\n",
       "      <td>15.451218</td>\n",
       "      <td>0.118813</td>\n",
       "      <td>0.087354</td>\n",
       "      <td>-0.217773</td>\n",
       "    </tr>\n",
       "  </tbody>\n",
       "</table>\n",
       "<p>1004400 rows × 6 columns</p>\n",
       "</div>"
      ],
      "text/plain": [
       "            acc_x     acc_y      acc_z    gyro_x    gyro_y    gyro_z\n",
       "0       -6.147430  1.798508   7.260559  0.852661 -0.562042 -0.006714\n",
       "1       -5.669399 -0.153227   7.814577 -0.040317  0.056505  0.080634\n",
       "2       -4.187195 -1.955337   7.799713  0.203247  0.073486  0.088348\n",
       "3       -5.990326  2.349564  10.299103 -0.637360 -0.178589  0.644836\n",
       "4       -7.967903  2.135628  10.735600  0.381583  0.223485 -0.701684\n",
       "...           ...       ...        ...       ...       ...       ...\n",
       "1004395  3.677448 -0.919362   6.129080 -0.215635  0.771523  0.854600\n",
       "1004396 -4.640488  0.618286  14.400284  0.091568  0.958786 -0.319946\n",
       "1004397 -5.647385  2.053650   6.504593 -0.378736 -0.291688  0.565356\n",
       "1004398  6.760028  0.307655   8.748413  0.159454 -0.084595 -0.027008\n",
       "1004399 -2.667160  0.155304  15.451218  0.118813  0.087354 -0.217773\n",
       "\n",
       "[1004400 rows x 6 columns]"
      ]
     },
     "execution_count": 54,
     "metadata": {},
     "output_type": "execute_result"
    }
   ],
   "source": [
    "X_train = X_train.head(seg_shape)\n",
    "X_train"
   ]
  },
  {
   "cell_type": "code",
   "execution_count": 55,
   "metadata": {},
   "outputs": [
    {
     "data": {
      "text/plain": [
       "(1004400, 6)"
      ]
     },
     "execution_count": 55,
     "metadata": {},
     "output_type": "execute_result"
    }
   ],
   "source": [
    "segments = X_train.to_numpy()\n",
    "segments.shape"
   ]
  },
  {
   "cell_type": "code",
   "execution_count": 56,
   "metadata": {},
   "outputs": [
    {
     "data": {
      "text/plain": [
       "(2511, 400, 6)"
      ]
     },
     "execution_count": 56,
     "metadata": {},
     "output_type": "execute_result"
    }
   ],
   "source": [
    "n_instances = int(segments.shape[0]/400)\n",
    "n_attributes = segments.shape[1]\n",
    "segments = segments.reshape(n_instances, 400, n_attributes)\n",
    "np.save('data/X_train.npy', segments) \n",
    "segments.shape"
   ]
  },
  {
   "cell_type": "code",
   "execution_count": 21,
   "metadata": {},
   "outputs": [],
   "source": [
    "#labels = y_train.head(int((segments.shape[0])/400))\n",
    "#labels.shape"
   ]
  },
  {
   "cell_type": "code",
   "execution_count": 22,
   "metadata": {},
   "outputs": [
    {
     "data": {
      "text/plain": [
       "(2511, 1)"
      ]
     },
     "execution_count": 22,
     "metadata": {},
     "output_type": "execute_result"
    }
   ],
   "source": [
    "labels = y_train.head(segments.shape[0]).head(2511)\n",
    "labels.shape"
   ]
  },
  {
   "cell_type": "code",
   "execution_count": 23,
   "metadata": {},
   "outputs": [
    {
     "data": {
      "text/plain": [
       "(2511, 6)"
      ]
     },
     "execution_count": 23,
     "metadata": {},
     "output_type": "execute_result"
    }
   ],
   "source": [
    "# one hot encoding by pandas\n",
    "label_ohe = pd.get_dummies(data=labels, columns=['label']).to_numpy()\n",
    "label_ohe.shape"
   ]
  },
  {
   "cell_type": "code",
   "execution_count": 57,
   "metadata": {
    "id": "_teJQ4xB7Owa"
   },
   "outputs": [],
   "source": [
    "tf.keras.backend.clear_session()\n",
    "\n",
    "input = Input(shape=(2400,))\n",
    "reshape_input = Reshape((1, 400, 6))(input)\n",
    "\n",
    "x = Conv2D(32, kernel_size = (1, 24), \n",
    "        strides = (1, 1),  \n",
    "        activation = \"relu\", \n",
    "        padding = \"valid\", \n",
    "        kernel_regularizer = l2(1e-4))(reshape_input)\n",
    "x = MaxPool2D((1, 4), (1, 2))(x)\n",
    "\n",
    "x = Conv2D(64, kernel_size = (1, 16), \n",
    "        strides = (1, 1), \n",
    "        activation = \"relu\", \n",
    "        padding = \"valid\", \n",
    "        kernel_regularizer = l2(1e-4))(x)\n",
    "x = MaxPool2D((1, 4), (1, 2))(x)\n",
    "\n",
    "x = Conv2D(96, kernel_size = (1, 8), \n",
    "        strides = (1, 1), \n",
    "        activation = \"relu\", \n",
    "        padding = \"valid\", \n",
    "        kernel_regularizer = l2(1e-4))(x)\n",
    "x = MaxPool2D((1, 4), (1, 2))(x)\n",
    "\n",
    "x = Conv2D(128, kernel_size = (1, 4), \n",
    "        strides = (1, 1), \n",
    "        activation = \"relu\", \n",
    "        padding = \"valid\", \n",
    "        kernel_regularizer = l2(1e-4),\n",
    "        name=\"encoder\")(x)        \n",
    "x = Flatten()(x)\n",
    "output = Dense(6, activation = \"softmax\")(x)\n",
    "\n",
    "model = Model(input, output)\n",
    "model.compile(optimizer = Adam(3e-4), \n",
    "              loss = \"categorical_crossentropy\",\n",
    "              metrics = [\"categorical_accuracy\"])"
   ]
  },
  {
   "cell_type": "code",
   "execution_count": 25,
   "metadata": {
    "id": "G89Qn8kfOwS3"
   },
   "outputs": [
    {
     "data": {
      "text/plain": [
       "(2511, 2400)"
      ]
     },
     "execution_count": 25,
     "metadata": {},
     "output_type": "execute_result"
    }
   ],
   "source": [
    "segments_reshaped = segments.reshape(-1, 2400)\n",
    "segments_reshaped.shape"
   ]
  },
  {
   "cell_type": "code",
   "execution_count": 26,
   "metadata": {},
   "outputs": [
    {
     "name": "stderr",
     "output_type": "stream",
     "text": [
      "/home/ale/.local/lib/python3.8/site-packages/tensorflow/python/data/ops/dataset_ops.py:4526: UserWarning: Even though the `tf.config.experimental_run_functions_eagerly` option is set, this option does not apply to tf.data functions. To force eager execution of tf.data functions, please use `tf.data.experimental.enable_debug_mode()`.\n",
      "  warnings.warn(\n"
     ]
    },
    {
     "name": "stdout",
     "output_type": "stream",
     "text": [
      "Epoch 1/20\n",
      "79/79 - 2s - loss: 1.8317 - categorical_accuracy: 0.1856 - 2s/epoch - 31ms/step\n",
      "Epoch 2/20\n",
      "79/79 - 2s - loss: 1.8013 - categorical_accuracy: 0.2015 - 2s/epoch - 29ms/step\n",
      "Epoch 3/20\n",
      "79/79 - 2s - loss: 1.7926 - categorical_accuracy: 0.2218 - 2s/epoch - 29ms/step\n",
      "Epoch 4/20\n",
      "79/79 - 2s - loss: 1.7817 - categorical_accuracy: 0.2234 - 2s/epoch - 29ms/step\n",
      "Epoch 5/20\n",
      "79/79 - 2s - loss: 1.7580 - categorical_accuracy: 0.2521 - 2s/epoch - 28ms/step\n",
      "Epoch 6/20\n",
      "79/79 - 2s - loss: 1.7160 - categorical_accuracy: 0.3007 - 2s/epoch - 31ms/step\n",
      "Epoch 7/20\n",
      "79/79 - 2s - loss: 1.6317 - categorical_accuracy: 0.3616 - 2s/epoch - 29ms/step\n",
      "Epoch 8/20\n",
      "79/79 - 2s - loss: 1.5015 - categorical_accuracy: 0.4524 - 2s/epoch - 29ms/step\n",
      "Epoch 9/20\n",
      "79/79 - 2s - loss: 1.3061 - categorical_accuracy: 0.5468 - 2s/epoch - 30ms/step\n",
      "Epoch 10/20\n",
      "79/79 - 2s - loss: 1.0292 - categorical_accuracy: 0.6854 - 2s/epoch - 30ms/step\n",
      "Epoch 11/20\n",
      "79/79 - 2s - loss: 0.7454 - categorical_accuracy: 0.7973 - 2s/epoch - 30ms/step\n",
      "Epoch 12/20\n",
      "79/79 - 2s - loss: 0.4746 - categorical_accuracy: 0.9004 - 2s/epoch - 29ms/step\n",
      "Epoch 13/20\n",
      "79/79 - 2s - loss: 0.2610 - categorical_accuracy: 0.9733 - 2s/epoch - 29ms/step\n",
      "Epoch 14/20\n",
      "79/79 - 2s - loss: 0.1290 - categorical_accuracy: 0.9972 - 2s/epoch - 29ms/step\n",
      "Epoch 15/20\n",
      "79/79 - 2s - loss: 0.0760 - categorical_accuracy: 1.0000 - 2s/epoch - 29ms/step\n",
      "Epoch 16/20\n",
      "79/79 - 2s - loss: 0.0517 - categorical_accuracy: 1.0000 - 2s/epoch - 29ms/step\n",
      "Epoch 17/20\n",
      "79/79 - 2s - loss: 0.0426 - categorical_accuracy: 1.0000 - 2s/epoch - 29ms/step\n",
      "Epoch 18/20\n",
      "79/79 - 2s - loss: 0.0380 - categorical_accuracy: 1.0000 - 2s/epoch - 29ms/step\n",
      "Epoch 19/20\n",
      "79/79 - 2s - loss: 0.0353 - categorical_accuracy: 1.0000 - 2s/epoch - 29ms/step\n",
      "Epoch 20/20\n",
      "79/79 - 2s - loss: 0.0329 - categorical_accuracy: 1.0000 - 2s/epoch - 29ms/step\n"
     ]
    },
    {
     "data": {
      "text/plain": [
       "<keras.callbacks.History at 0x7fa6037c3d00>"
      ]
     },
     "execution_count": 26,
     "metadata": {},
     "output_type": "execute_result"
    }
   ],
   "source": [
    "model.fit(segments_reshaped, label_ohe, epochs = 20, \n",
    "          batch_size = 32, verbose = 2)"
   ]
  },
  {
   "cell_type": "code",
   "execution_count": 59,
   "metadata": {},
   "outputs": [
    {
     "data": {
      "text/plain": [
       "(2511, 2400)"
      ]
     },
     "execution_count": 59,
     "metadata": {},
     "output_type": "execute_result"
    }
   ],
   "source": [
    "segments_reshaped = segments.reshape(-1, 2400)\n",
    "segments_reshaped.shape"
   ]
  },
  {
   "cell_type": "code",
   "execution_count": 61,
   "metadata": {},
   "outputs": [
    {
     "data": {
      "text/plain": [
       "(2511, 400, 6)"
      ]
     },
     "execution_count": 61,
     "metadata": {},
     "output_type": "execute_result"
    }
   ],
   "source": [
    "labels.shape"
   ]
  },
  {
   "cell_type": "code",
   "execution_count": 60,
   "metadata": {},
   "outputs": [
    {
     "name": "stdout",
     "output_type": "stream",
     "text": [
      "Epoch 1/20\n"
     ]
    },
    {
     "ename": "ValueError",
     "evalue": "Input 0 of layer \"model\" is incompatible with the layer: expected shape=(None, 2400), found shape=(32, 400, 6)",
     "output_type": "error",
     "traceback": [
      "\u001b[0;31m---------------------------------------------------------------------------\u001b[0m",
      "\u001b[0;31mValueError\u001b[0m                                Traceback (most recent call last)",
      "\u001b[0;32m/tmp/ipykernel_204972/4044454034.py\u001b[0m in \u001b[0;36m<module>\u001b[0;34m\u001b[0m\n\u001b[0;32m----> 1\u001b[0;31m model.fit(segments, labels, epochs = 20, \n\u001b[0m\u001b[1;32m      2\u001b[0m           batch_size = 32, verbose = 2)\n",
      "\u001b[0;32m~/.local/lib/python3.8/site-packages/keras/utils/traceback_utils.py\u001b[0m in \u001b[0;36merror_handler\u001b[0;34m(*args, **kwargs)\u001b[0m\n\u001b[1;32m     65\u001b[0m     \u001b[0;32mexcept\u001b[0m \u001b[0mException\u001b[0m \u001b[0;32mas\u001b[0m \u001b[0me\u001b[0m\u001b[0;34m:\u001b[0m  \u001b[0;31m# pylint: disable=broad-except\u001b[0m\u001b[0;34m\u001b[0m\u001b[0;34m\u001b[0m\u001b[0m\n\u001b[1;32m     66\u001b[0m       \u001b[0mfiltered_tb\u001b[0m \u001b[0;34m=\u001b[0m \u001b[0m_process_traceback_frames\u001b[0m\u001b[0;34m(\u001b[0m\u001b[0me\u001b[0m\u001b[0;34m.\u001b[0m\u001b[0m__traceback__\u001b[0m\u001b[0;34m)\u001b[0m\u001b[0;34m\u001b[0m\u001b[0;34m\u001b[0m\u001b[0m\n\u001b[0;32m---> 67\u001b[0;31m       \u001b[0;32mraise\u001b[0m \u001b[0me\u001b[0m\u001b[0;34m.\u001b[0m\u001b[0mwith_traceback\u001b[0m\u001b[0;34m(\u001b[0m\u001b[0mfiltered_tb\u001b[0m\u001b[0;34m)\u001b[0m \u001b[0;32mfrom\u001b[0m \u001b[0;32mNone\u001b[0m\u001b[0;34m\u001b[0m\u001b[0;34m\u001b[0m\u001b[0m\n\u001b[0m\u001b[1;32m     68\u001b[0m     \u001b[0;32mfinally\u001b[0m\u001b[0;34m:\u001b[0m\u001b[0;34m\u001b[0m\u001b[0;34m\u001b[0m\u001b[0m\n\u001b[1;32m     69\u001b[0m       \u001b[0;32mdel\u001b[0m \u001b[0mfiltered_tb\u001b[0m\u001b[0;34m\u001b[0m\u001b[0;34m\u001b[0m\u001b[0m\n",
      "\u001b[0;32m~/.local/lib/python3.8/site-packages/keras/engine/input_spec.py\u001b[0m in \u001b[0;36massert_input_compatibility\u001b[0;34m(input_spec, inputs, layer_name)\u001b[0m\n\u001b[1;32m    261\u001b[0m         \u001b[0;32mif\u001b[0m \u001b[0mspec_dim\u001b[0m \u001b[0;32mis\u001b[0m \u001b[0;32mnot\u001b[0m \u001b[0;32mNone\u001b[0m \u001b[0;32mand\u001b[0m \u001b[0mdim\u001b[0m \u001b[0;32mis\u001b[0m \u001b[0;32mnot\u001b[0m \u001b[0;32mNone\u001b[0m\u001b[0;34m:\u001b[0m\u001b[0;34m\u001b[0m\u001b[0;34m\u001b[0m\u001b[0m\n\u001b[1;32m    262\u001b[0m           \u001b[0;32mif\u001b[0m \u001b[0mspec_dim\u001b[0m \u001b[0;34m!=\u001b[0m \u001b[0mdim\u001b[0m\u001b[0;34m:\u001b[0m\u001b[0;34m\u001b[0m\u001b[0;34m\u001b[0m\u001b[0m\n\u001b[0;32m--> 263\u001b[0;31m             raise ValueError(f'Input {input_index} of layer \"{layer_name}\" is '\n\u001b[0m\u001b[1;32m    264\u001b[0m                              \u001b[0;34m'incompatible with the layer: '\u001b[0m\u001b[0;34m\u001b[0m\u001b[0;34m\u001b[0m\u001b[0m\n\u001b[1;32m    265\u001b[0m                              \u001b[0;34mf'expected shape={spec.shape}, '\u001b[0m\u001b[0;34m\u001b[0m\u001b[0;34m\u001b[0m\u001b[0m\n",
      "\u001b[0;31mValueError\u001b[0m: Input 0 of layer \"model\" is incompatible with the layer: expected shape=(None, 2400), found shape=(32, 400, 6)"
     ]
    }
   ],
   "source": [
    "model.fit(segments, labels, epochs = 20, \n",
    "          batch_size = 32, verbose = 2)"
   ]
  },
  {
   "cell_type": "code",
   "execution_count": 27,
   "metadata": {
    "id": "xvD35HHQFMKq"
   },
   "outputs": [
    {
     "name": "stdout",
     "output_type": "stream",
     "text": [
      "WARNING:tensorflow:Compiled the loaded model, but the compiled metrics have yet to be built. `model.compile_metrics` will be empty until you train or evaluate the model.\n"
     ]
    },
    {
     "name": "stderr",
     "output_type": "stream",
     "text": [
      "2022-02-22 15:06:36.947733: W tensorflow/python/util/util.cc:368] Sets are not currently considered sequences, but this may change in the future, so consider avoiding using them.\n"
     ]
    },
    {
     "name": "stdout",
     "output_type": "stream",
     "text": [
      "INFO:tensorflow:Assets written to: par_model/assets\n"
     ]
    }
   ],
   "source": [
    "!rm -R par_model\n",
    "!mkdir par_model\n",
    "\n",
    "model = Model(model.input, model.get_layer(\"encoder\").output)\n",
    "tf.keras.models.save_model(model, \"par_model\", \n",
    "                           include_optimizer = False, \n",
    "                           save_format=\"tf\")"
   ]
  },
  {
   "cell_type": "markdown",
   "metadata": {
    "id": "9s24zfUlIuiO"
   },
   "source": [
    "------------------"
   ]
  },
  {
   "cell_type": "code",
   "execution_count": 28,
   "metadata": {
    "id": "vNvyMABWFs_z"
   },
   "outputs": [],
   "source": [
    "from tfltransfer import bases\n",
    "from tfltransfer import heads\n",
    "from tfltransfer import optimizers\n",
    "from tfltransfer.tflite_transfer_converter import TFLiteTransferConverter"
   ]
  },
  {
   "cell_type": "code",
   "execution_count": 29,
   "metadata": {
    "id": "mCj-k_y4FNOF"
   },
   "outputs": [],
   "source": [
    "base = bases.SavedModelBase(\"par_model\")\n",
    "\n",
    "head = Sequential([\n",
    "    # Flatten(input_shape=(1, 35, 128)),\n",
    "    Dense(units=128,\n",
    "        activation='relu',\n",
    "        kernel_regularizer=l2(0.0001),\n",
    "        input_shape=(256,)),\n",
    "    Dense(units=2,\n",
    "        activation='softmax',\n",
    "        kernel_regularizer=l2(0.0001)),\n",
    "])\n",
    "\n",
    "# Optimizer is ignored by the converter! See docs.\n",
    "head.compile(loss='categorical_crossentropy', optimizer='adam')"
   ]
  },
  {
   "cell_type": "code",
   "execution_count": 30,
   "metadata": {
    "id": "KavdBsHQG8M8"
   },
   "outputs": [
    {
     "name": "stdout",
     "output_type": "stream",
     "text": [
      "WARNING:tensorflow:From /home/ale/Documents/Eldorado/HIACC/meta-3/ctxt_id/On-device-activity-recognition/tfltransfer/heads/keras_model_head.py:43: The name tf.keras.experimental.export_saved_model is deprecated. Please use tf.compat.v1.keras.experimental.export_saved_model instead.\n",
      "\n"
     ]
    },
    {
     "name": "stderr",
     "output_type": "stream",
     "text": [
      "/home/ale/Documents/Eldorado/HIACC/meta-3/ctxt_id/On-device-activity-recognition/tfltransfer/heads/keras_model_head.py:43: UserWarning: `tf.keras.experimental.export_saved_model` is deprecatedand will be removed in a future version. Please use `model.save(..., save_format=\"tf\")` or `tf.keras.models.save_model(..., save_format=\"tf\")`.\n",
      "  tf.compat.v1.keras.experimental.export_saved_model(keras_model, saved_model_dir)\n",
      "/usr/lib/python3.8/contextlib.py:113: UserWarning: `tf.keras.backend.learning_phase_scope` is deprecated and will be removed after 2020-10-11. To update it, simply pass a True/False value to the `training` argument of the `__call__` method of your layer or model.\n",
      "  return next(self.gen)\n"
     ]
    },
    {
     "ename": "AttributeError",
     "evalue": "'NoneType' object has no attribute 'op'",
     "output_type": "error",
     "traceback": [
      "\u001b[0;31m---------------------------------------------------------------------------\u001b[0m",
      "\u001b[0;31mAttributeError\u001b[0m                            Traceback (most recent call last)",
      "\u001b[0;32m/tmp/ipykernel_186345/1330238597.py\u001b[0m in \u001b[0;36m<module>\u001b[0;34m\u001b[0m\n\u001b[1;32m      4\u001b[0m converter = TFLiteTransferConverter(2,\n\u001b[1;32m      5\u001b[0m               \u001b[0mbase\u001b[0m\u001b[0;34m,\u001b[0m\u001b[0;34m\u001b[0m\u001b[0;34m\u001b[0m\u001b[0m\n\u001b[0;32m----> 6\u001b[0;31m               \u001b[0mheads\u001b[0m\u001b[0;34m.\u001b[0m\u001b[0mKerasModelHead\u001b[0m\u001b[0;34m(\u001b[0m\u001b[0mhead\u001b[0m\u001b[0;34m)\u001b[0m\u001b[0;34m,\u001b[0m\u001b[0;34m\u001b[0m\u001b[0;34m\u001b[0m\u001b[0m\n\u001b[0m\u001b[1;32m      7\u001b[0m               \u001b[0moptimizers\u001b[0m\u001b[0;34m.\u001b[0m\u001b[0mSGD\u001b[0m\u001b[0;34m(\u001b[0m\u001b[0;36m0.001\u001b[0m\u001b[0;34m)\u001b[0m\u001b[0;34m,\u001b[0m\u001b[0;34m\u001b[0m\u001b[0;34m\u001b[0m\u001b[0m\n\u001b[1;32m      8\u001b[0m               train_batch_size=5)\n",
      "\u001b[0;32m~/Documents/Eldorado/HIACC/meta-3/ctxt_id/On-device-activity-recognition/tfltransfer/heads/keras_model_head.py\u001b[0m in \u001b[0;36m__init__\u001b[0;34m(self, keras_model)\u001b[0m\n\u001b[1;32m     41\u001b[0m         \u001b[0;31m# Convert Keras model to SavedModel.\u001b[0m\u001b[0;34m\u001b[0m\u001b[0;34m\u001b[0m\u001b[0;34m\u001b[0m\u001b[0m\n\u001b[1;32m     42\u001b[0m         \u001b[0msaved_model_dir\u001b[0m \u001b[0;34m=\u001b[0m \u001b[0mtempfile\u001b[0m\u001b[0;34m.\u001b[0m\u001b[0mmkdtemp\u001b[0m\u001b[0;34m(\u001b[0m\u001b[0;34m\"tflite-transfer-keras-model\"\u001b[0m\u001b[0;34m)\u001b[0m\u001b[0;34m\u001b[0m\u001b[0;34m\u001b[0m\u001b[0m\n\u001b[0;32m---> 43\u001b[0;31m         \u001b[0mtf\u001b[0m\u001b[0;34m.\u001b[0m\u001b[0mcompat\u001b[0m\u001b[0;34m.\u001b[0m\u001b[0mv1\u001b[0m\u001b[0;34m.\u001b[0m\u001b[0mkeras\u001b[0m\u001b[0;34m.\u001b[0m\u001b[0mexperimental\u001b[0m\u001b[0;34m.\u001b[0m\u001b[0mexport_saved_model\u001b[0m\u001b[0;34m(\u001b[0m\u001b[0mkeras_model\u001b[0m\u001b[0;34m,\u001b[0m \u001b[0msaved_model_dir\u001b[0m\u001b[0;34m)\u001b[0m\u001b[0;34m\u001b[0m\u001b[0;34m\u001b[0m\u001b[0m\n\u001b[0m\u001b[1;32m     44\u001b[0m \u001b[0;34m\u001b[0m\u001b[0m\n\u001b[1;32m     45\u001b[0m         \u001b[0;31m# Pre-fetch some information about the model.\u001b[0m\u001b[0;34m\u001b[0m\u001b[0;34m\u001b[0m\u001b[0;34m\u001b[0m\u001b[0m\n",
      "\u001b[0;32m~/.local/lib/python3.8/site-packages/keras/saving/saved_model_experimental.py\u001b[0m in \u001b[0;36mexport_saved_model\u001b[0;34m(model, saved_model_path, custom_objects, as_text, input_signature, serving_only)\u001b[0m\n\u001b[1;32m    127\u001b[0m         signatures=saving_utils.trace_model_call(model, input_signature))\n\u001b[1;32m    128\u001b[0m   \u001b[0;32melse\u001b[0m\u001b[0;34m:\u001b[0m\u001b[0;34m\u001b[0m\u001b[0;34m\u001b[0m\u001b[0m\n\u001b[0;32m--> 129\u001b[0;31m     _save_v1_format(model, saved_model_path, custom_objects, as_text,\n\u001b[0m\u001b[1;32m    130\u001b[0m                     input_signature)\n\u001b[1;32m    131\u001b[0m \u001b[0;34m\u001b[0m\u001b[0m\n",
      "\u001b[0;32m~/.local/lib/python3.8/site-packages/keras/saving/saved_model_experimental.py\u001b[0m in \u001b[0;36m_save_v1_format\u001b[0;34m(model, path, custom_objects, as_text, input_signature)\u001b[0m\n\u001b[1;32m    199\u001b[0m     if isinstance(model.optimizer, (optimizer_v1.TFOptimizer,\n\u001b[1;32m    200\u001b[0m                                     optimizer_v2.OptimizerV2)):\n\u001b[0;32m--> 201\u001b[0;31m       \u001b[0m_export_mode\u001b[0m\u001b[0;34m(\u001b[0m\u001b[0mmode_keys\u001b[0m\u001b[0;34m.\u001b[0m\u001b[0mModeKeys\u001b[0m\u001b[0;34m.\u001b[0m\u001b[0mTRAIN\u001b[0m\u001b[0;34m,\u001b[0m \u001b[0mhas_saved_vars\u001b[0m\u001b[0;34m,\u001b[0m \u001b[0;34m**\u001b[0m\u001b[0mexport_args\u001b[0m\u001b[0;34m)\u001b[0m\u001b[0;34m\u001b[0m\u001b[0;34m\u001b[0m\u001b[0m\n\u001b[0m\u001b[1;32m    202\u001b[0m       \u001b[0mhas_saved_vars\u001b[0m \u001b[0;34m=\u001b[0m \u001b[0;32mTrue\u001b[0m\u001b[0;34m\u001b[0m\u001b[0;34m\u001b[0m\u001b[0m\n\u001b[1;32m    203\u001b[0m       \u001b[0m_export_mode\u001b[0m\u001b[0;34m(\u001b[0m\u001b[0mmode_keys\u001b[0m\u001b[0;34m.\u001b[0m\u001b[0mModeKeys\u001b[0m\u001b[0;34m.\u001b[0m\u001b[0mTEST\u001b[0m\u001b[0;34m,\u001b[0m \u001b[0mhas_saved_vars\u001b[0m\u001b[0;34m,\u001b[0m \u001b[0;34m**\u001b[0m\u001b[0mexport_args\u001b[0m\u001b[0;34m)\u001b[0m\u001b[0;34m\u001b[0m\u001b[0;34m\u001b[0m\u001b[0m\n",
      "\u001b[0;32m~/.local/lib/python3.8/site-packages/keras/saving/saved_model_experimental.py\u001b[0m in \u001b[0;36m_export_mode\u001b[0;34m(mode, has_saved_vars, builder, model, custom_objects, checkpoint_path, input_signature)\u001b[0m\n\u001b[1;32m    275\u001b[0m     \u001b[0mtrain_op\u001b[0m \u001b[0;34m=\u001b[0m \u001b[0;32mNone\u001b[0m\u001b[0;34m\u001b[0m\u001b[0;34m\u001b[0m\u001b[0m\n\u001b[1;32m    276\u001b[0m     \u001b[0;32mif\u001b[0m \u001b[0mmode\u001b[0m \u001b[0;34m==\u001b[0m \u001b[0mmode_keys\u001b[0m\u001b[0;34m.\u001b[0m\u001b[0mModeKeys\u001b[0m\u001b[0;34m.\u001b[0m\u001b[0mTRAIN\u001b[0m\u001b[0;34m:\u001b[0m\u001b[0;34m\u001b[0m\u001b[0;34m\u001b[0m\u001b[0m\n\u001b[0;32m--> 277\u001b[0;31m       \u001b[0mclone\u001b[0m\u001b[0;34m.\u001b[0m\u001b[0m_make_train_function\u001b[0m\u001b[0;34m(\u001b[0m\u001b[0;34m)\u001b[0m  \u001b[0;31m# pylint: disable=protected-access\u001b[0m\u001b[0;34m\u001b[0m\u001b[0;34m\u001b[0m\u001b[0m\n\u001b[0m\u001b[1;32m    278\u001b[0m       \u001b[0mtrain_op\u001b[0m \u001b[0;34m=\u001b[0m \u001b[0mclone\u001b[0m\u001b[0;34m.\u001b[0m\u001b[0mtrain_function\u001b[0m\u001b[0;34m.\u001b[0m\u001b[0mupdates_op\u001b[0m\u001b[0;34m\u001b[0m\u001b[0;34m\u001b[0m\u001b[0m\n\u001b[1;32m    279\u001b[0m     \u001b[0;32melif\u001b[0m \u001b[0mmode\u001b[0m \u001b[0;34m==\u001b[0m \u001b[0mmode_keys\u001b[0m\u001b[0;34m.\u001b[0m\u001b[0mModeKeys\u001b[0m\u001b[0;34m.\u001b[0m\u001b[0mTEST\u001b[0m\u001b[0;34m:\u001b[0m\u001b[0;34m\u001b[0m\u001b[0;34m\u001b[0m\u001b[0m\n",
      "\u001b[0;32m~/.local/lib/python3.8/site-packages/keras/engine/training_v1.py\u001b[0m in \u001b[0;36m_make_train_function\u001b[0;34m(self)\u001b[0m\n\u001b[1;32m   2014\u001b[0m         \u001b[0;32mwith\u001b[0m \u001b[0mbackend\u001b[0m\u001b[0;34m.\u001b[0m\u001b[0mname_scope\u001b[0m\u001b[0;34m(\u001b[0m\u001b[0;34m'training'\u001b[0m\u001b[0;34m)\u001b[0m\u001b[0;34m:\u001b[0m\u001b[0;34m\u001b[0m\u001b[0;34m\u001b[0m\u001b[0m\n\u001b[1;32m   2015\u001b[0m           \u001b[0;31m# Training updates\u001b[0m\u001b[0;34m\u001b[0m\u001b[0;34m\u001b[0m\u001b[0;34m\u001b[0m\u001b[0m\n\u001b[0;32m-> 2016\u001b[0;31m           updates = self.optimizer.get_updates(\n\u001b[0m\u001b[1;32m   2017\u001b[0m               params=self._collected_trainable_weights, loss=self.total_loss)\n\u001b[1;32m   2018\u001b[0m           \u001b[0;31m# Unconditional updates\u001b[0m\u001b[0;34m\u001b[0m\u001b[0;34m\u001b[0m\u001b[0;34m\u001b[0m\u001b[0m\n",
      "\u001b[0;32m~/.local/lib/python3.8/site-packages/keras/optimizer_v2/optimizer_v2.py\u001b[0m in \u001b[0;36mget_updates\u001b[0;34m(self, loss, params)\u001b[0m\n\u001b[1;32m    772\u001b[0m \u001b[0;34m\u001b[0m\u001b[0m\n\u001b[1;32m    773\u001b[0m   \u001b[0;32mdef\u001b[0m \u001b[0mget_updates\u001b[0m\u001b[0;34m(\u001b[0m\u001b[0mself\u001b[0m\u001b[0;34m,\u001b[0m \u001b[0mloss\u001b[0m\u001b[0;34m,\u001b[0m \u001b[0mparams\u001b[0m\u001b[0;34m)\u001b[0m\u001b[0;34m:\u001b[0m\u001b[0;34m\u001b[0m\u001b[0;34m\u001b[0m\u001b[0m\n\u001b[0;32m--> 774\u001b[0;31m     \u001b[0mgrads\u001b[0m \u001b[0;34m=\u001b[0m \u001b[0mself\u001b[0m\u001b[0;34m.\u001b[0m\u001b[0mget_gradients\u001b[0m\u001b[0;34m(\u001b[0m\u001b[0mloss\u001b[0m\u001b[0;34m,\u001b[0m \u001b[0mparams\u001b[0m\u001b[0;34m)\u001b[0m\u001b[0;34m\u001b[0m\u001b[0;34m\u001b[0m\u001b[0m\n\u001b[0m\u001b[1;32m    775\u001b[0m     \u001b[0mgrads_and_vars\u001b[0m \u001b[0;34m=\u001b[0m \u001b[0mlist\u001b[0m\u001b[0;34m(\u001b[0m\u001b[0mzip\u001b[0m\u001b[0;34m(\u001b[0m\u001b[0mgrads\u001b[0m\u001b[0;34m,\u001b[0m \u001b[0mparams\u001b[0m\u001b[0;34m)\u001b[0m\u001b[0;34m)\u001b[0m\u001b[0;34m\u001b[0m\u001b[0;34m\u001b[0m\u001b[0m\n\u001b[1;32m    776\u001b[0m     self._assert_valid_dtypes([\n",
      "\u001b[0;32m~/.local/lib/python3.8/site-packages/keras/optimizer_v2/optimizer_v2.py\u001b[0m in \u001b[0;36mget_gradients\u001b[0;34m(self, loss, params)\u001b[0m\n\u001b[1;32m    761\u001b[0m     with backend.get_graph().as_default(), backend.name_scope(self._name +\n\u001b[1;32m    762\u001b[0m                                                               \"/gradients\"):\n\u001b[0;32m--> 763\u001b[0;31m       \u001b[0mgrads\u001b[0m \u001b[0;34m=\u001b[0m \u001b[0mtf\u001b[0m\u001b[0;34m.\u001b[0m\u001b[0mcompat\u001b[0m\u001b[0;34m.\u001b[0m\u001b[0mv1\u001b[0m\u001b[0;34m.\u001b[0m\u001b[0mgradients\u001b[0m\u001b[0;34m(\u001b[0m\u001b[0mloss\u001b[0m\u001b[0;34m,\u001b[0m \u001b[0mparams\u001b[0m\u001b[0;34m)\u001b[0m\u001b[0;34m\u001b[0m\u001b[0;34m\u001b[0m\u001b[0m\n\u001b[0m\u001b[1;32m    764\u001b[0m       \u001b[0;32mfor\u001b[0m \u001b[0mgrad\u001b[0m\u001b[0;34m,\u001b[0m \u001b[0mparam\u001b[0m \u001b[0;32min\u001b[0m \u001b[0mzip\u001b[0m\u001b[0;34m(\u001b[0m\u001b[0mgrads\u001b[0m\u001b[0;34m,\u001b[0m \u001b[0mparams\u001b[0m\u001b[0;34m)\u001b[0m\u001b[0;34m:\u001b[0m\u001b[0;34m\u001b[0m\u001b[0;34m\u001b[0m\u001b[0m\n\u001b[1;32m    765\u001b[0m         \u001b[0;32mif\u001b[0m \u001b[0mgrad\u001b[0m \u001b[0;32mis\u001b[0m \u001b[0;32mNone\u001b[0m\u001b[0;34m:\u001b[0m\u001b[0;34m\u001b[0m\u001b[0;34m\u001b[0m\u001b[0m\n",
      "\u001b[0;32m~/.local/lib/python3.8/site-packages/tensorflow/python/ops/gradients_impl.py\u001b[0m in \u001b[0;36mgradients\u001b[0;34m(ys, xs, grad_ys, name, colocate_gradients_with_ops, gate_gradients, aggregation_method, stop_gradients, unconnected_gradients)\u001b[0m\n\u001b[1;32m    167\u001b[0m   \u001b[0;31m# pylint: disable=protected-access\u001b[0m\u001b[0;34m\u001b[0m\u001b[0;34m\u001b[0m\u001b[0;34m\u001b[0m\u001b[0m\n\u001b[1;32m    168\u001b[0m   \u001b[0;32mwith\u001b[0m \u001b[0mops\u001b[0m\u001b[0;34m.\u001b[0m\u001b[0mget_default_graph\u001b[0m\u001b[0;34m(\u001b[0m\u001b[0;34m)\u001b[0m\u001b[0;34m.\u001b[0m\u001b[0m_mutation_lock\u001b[0m\u001b[0;34m(\u001b[0m\u001b[0;34m)\u001b[0m\u001b[0;34m:\u001b[0m\u001b[0;34m\u001b[0m\u001b[0;34m\u001b[0m\u001b[0m\n\u001b[0;32m--> 169\u001b[0;31m     return gradients_util._GradientsHelper(\n\u001b[0m\u001b[1;32m    170\u001b[0m         \u001b[0mys\u001b[0m\u001b[0;34m,\u001b[0m \u001b[0mxs\u001b[0m\u001b[0;34m,\u001b[0m \u001b[0mgrad_ys\u001b[0m\u001b[0;34m,\u001b[0m \u001b[0mname\u001b[0m\u001b[0;34m,\u001b[0m \u001b[0mcolocate_gradients_with_ops\u001b[0m\u001b[0;34m,\u001b[0m\u001b[0;34m\u001b[0m\u001b[0;34m\u001b[0m\u001b[0m\n\u001b[1;32m    171\u001b[0m         \u001b[0mgate_gradients\u001b[0m\u001b[0;34m,\u001b[0m \u001b[0maggregation_method\u001b[0m\u001b[0;34m,\u001b[0m \u001b[0mstop_gradients\u001b[0m\u001b[0;34m,\u001b[0m\u001b[0;34m\u001b[0m\u001b[0;34m\u001b[0m\u001b[0m\n",
      "\u001b[0;32m~/.local/lib/python3.8/site-packages/tensorflow/python/ops/gradients_util.py\u001b[0m in \u001b[0;36m_GradientsHelper\u001b[0;34m(ys, xs, grad_ys, name, colocate_gradients_with_ops, gate_gradients, aggregation_method, stop_gradients, unconnected_gradients, src_graph)\u001b[0m\n\u001b[1;32m    524\u001b[0m         xs, name=\"x\", as_ref=True)\n\u001b[1;32m    525\u001b[0m     \u001b[0mxs_set\u001b[0m \u001b[0;34m=\u001b[0m \u001b[0mobject_identity\u001b[0m\u001b[0;34m.\u001b[0m\u001b[0mObjectIdentitySet\u001b[0m\u001b[0;34m(\u001b[0m\u001b[0mxs\u001b[0m\u001b[0;34m)\u001b[0m\u001b[0;34m\u001b[0m\u001b[0;34m\u001b[0m\u001b[0m\n\u001b[0;32m--> 526\u001b[0;31m     grad_ys = _DefaultGradYs(grad_ys, ys, colocate_gradients_with_ops,\n\u001b[0m\u001b[1;32m    527\u001b[0m                              gradient_uid)\n\u001b[1;32m    528\u001b[0m \u001b[0;34m\u001b[0m\u001b[0m\n",
      "\u001b[0;32m~/.local/lib/python3.8/site-packages/tensorflow/python/ops/gradients_util.py\u001b[0m in \u001b[0;36m_DefaultGradYs\u001b[0;34m(grad_ys, ys, colocate_gradients_with_ops, gradient_uid)\u001b[0m\n\u001b[1;32m    166\u001b[0m   \u001b[0mnew_grad_ys\u001b[0m \u001b[0;34m=\u001b[0m \u001b[0;34m[\u001b[0m\u001b[0;34m]\u001b[0m\u001b[0;34m\u001b[0m\u001b[0;34m\u001b[0m\u001b[0m\n\u001b[1;32m    167\u001b[0m   \u001b[0;32mfor\u001b[0m \u001b[0mi\u001b[0m\u001b[0;34m,\u001b[0m \u001b[0;34m(\u001b[0m\u001b[0my\u001b[0m\u001b[0;34m,\u001b[0m \u001b[0mgrad_y\u001b[0m\u001b[0;34m)\u001b[0m \u001b[0;32min\u001b[0m \u001b[0menumerate\u001b[0m\u001b[0;34m(\u001b[0m\u001b[0mzip\u001b[0m\u001b[0;34m(\u001b[0m\u001b[0mys\u001b[0m\u001b[0;34m,\u001b[0m \u001b[0mgrad_ys\u001b[0m\u001b[0;34m)\u001b[0m\u001b[0;34m)\u001b[0m\u001b[0;34m:\u001b[0m\u001b[0;34m\u001b[0m\u001b[0;34m\u001b[0m\u001b[0m\n\u001b[0;32m--> 168\u001b[0;31m     \u001b[0;32mwith\u001b[0m \u001b[0m_maybe_colocate_with\u001b[0m\u001b[0;34m(\u001b[0m\u001b[0my\u001b[0m\u001b[0;34m.\u001b[0m\u001b[0mop\u001b[0m\u001b[0;34m,\u001b[0m \u001b[0mgradient_uid\u001b[0m\u001b[0;34m,\u001b[0m \u001b[0mcolocate_gradients_with_ops\u001b[0m\u001b[0;34m)\u001b[0m\u001b[0;34m:\u001b[0m\u001b[0;34m\u001b[0m\u001b[0;34m\u001b[0m\u001b[0m\n\u001b[0m\u001b[1;32m    169\u001b[0m       \u001b[0;32mif\u001b[0m \u001b[0mgrad_y\u001b[0m \u001b[0;32mis\u001b[0m \u001b[0;32mNone\u001b[0m\u001b[0;34m:\u001b[0m\u001b[0;34m\u001b[0m\u001b[0;34m\u001b[0m\u001b[0m\n\u001b[1;32m    170\u001b[0m         \u001b[0;32mif\u001b[0m \u001b[0my\u001b[0m\u001b[0;34m.\u001b[0m\u001b[0mdtype\u001b[0m\u001b[0;34m.\u001b[0m\u001b[0mis_complex\u001b[0m\u001b[0;34m:\u001b[0m\u001b[0;34m\u001b[0m\u001b[0;34m\u001b[0m\u001b[0m\n",
      "\u001b[0;31mAttributeError\u001b[0m: 'NoneType' object has no attribute 'op'"
     ]
    }
   ],
   "source": [
    "!rm -R tflite_par_model\n",
    "!mkdir tflite_par_model\n",
    "\n",
    "converter = TFLiteTransferConverter(2,\n",
    "              base,\n",
    "              heads.KerasModelHead(head),\n",
    "              optimizers.SGD(0.001),\n",
    "              train_batch_size=5)\n",
    "\n",
    "converter.convert_and_save('tflite_par_model')"
   ]
  },
  {
   "cell_type": "markdown",
   "metadata": {
    "id": "2xi3s0iAsnw2"
   },
   "source": [
    "--------------------"
   ]
  },
  {
   "cell_type": "code",
   "execution_count": null,
   "metadata": {},
   "outputs": [],
   "source": []
  }
 ],
 "metadata": {
  "accelerator": "GPU",
  "colab": {
   "collapsed_sections": [],
   "name": "PAR.ipynb",
   "provenance": []
  },
  "kernelspec": {
   "display_name": "venv",
   "language": "python",
   "name": "venv"
  },
  "language_info": {
   "codemirror_mode": {
    "name": "ipython",
    "version": 3
   },
   "file_extension": ".py",
   "mimetype": "text/x-python",
   "name": "python",
   "nbconvert_exporter": "python",
   "pygments_lexer": "ipython3",
   "version": "3.8.10"
  }
 },
 "nbformat": 4,
 "nbformat_minor": 4
}
